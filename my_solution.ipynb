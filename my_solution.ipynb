{
  "cells": [
    {
      "cell_type": "markdown",
      "metadata": {
        "id": "6dfpNQmSYoLh"
      },
      "source": [
        "# Мое решение Задачи 4 \"Место залежей нефти и газа\""
      ]
    },
    {
      "cell_type": "markdown",
      "metadata": {},
      "source": [
        "Я работаю на удаленном сервер с ГПУ через VS code. Поэтому у меня нет кода который загружает или скачивает данные с Google Colab."
      ]
    },
    {
      "cell_type": "code",
      "execution_count": 1,
      "metadata": {},
      "outputs": [],
      "source": [
        "# установим AutoML фреймворк от Сбера - LightAutoML(LAMA)\n",
        "# это позволит довольно быстро проверять различные гипотезы и \n",
        "# отбирать лучшие решения.\n",
        "# !pip install -U lightautoml"
      ]
    },
    {
      "cell_type": "code",
      "execution_count": 2,
      "metadata": {
        "id": "4FcJiGtaY3ZK"
      },
      "outputs": [
        {
          "name": "stderr",
          "output_type": "stream",
          "text": [
            "/home/admin-gpu/anaconda3/envs/sber_lama/lib/python3.9/site-packages/tqdm/auto.py:22: TqdmWarning: IProgress not found. Please update jupyter and ipywidgets. See https://ipywidgets.readthedocs.io/en/stable/user_install.html\n",
            "  from .autonotebook import tqdm as notebook_tqdm\n"
          ]
        }
      ],
      "source": [
        "# иморитирование всех необходимых библиотек\n",
        "import joblib\n",
        "import pandas as pd\n",
        "import numpy as np\n",
        "from sklearn.model_selection import train_test_split\n",
        "\n",
        "import seaborn as sns\n",
        "import matplotlib.pyplot as plt\n",
        "\n",
        "# импорты из LightAutoML\n",
        "from lightautoml.automl.presets.tabular_presets import TabularAutoML, TabularUtilizedAutoML\n",
        "from lightautoml.tasks import Task"
      ]
    },
    {
      "cell_type": "markdown",
      "metadata": {
        "id": "Gj2EZrPMi44I"
      },
      "source": [
        "## Считывание данных"
      ]
    },
    {
      "cell_type": "code",
      "execution_count": 3,
      "metadata": {
        "colab": {
          "base_uri": "https://localhost:8080/"
        },
        "id": "ONrDnkYzZVpR",
        "outputId": "3adfe65f-3e7b-4c5c-b4f8-702e36143b5f"
      },
      "outputs": [
        {
          "name": "stdout",
          "output_type": "stream",
          "text": [
            "Train dataset shape: (309, 20)\n"
          ]
        }
      ],
      "source": [
        "# Считываем тренировочные данные\n",
        "train = pd.read_csv(\"data/train_oil.csv\")\n",
        "\n",
        "print(f\"Train dataset shape: {train.shape}\")"
      ]
    },
    {
      "cell_type": "code",
      "execution_count": 4,
      "metadata": {
        "colab": {
          "base_uri": "https://localhost:8080/"
        },
        "id": "zxX61HYrbFbf",
        "outputId": "1790dd26-4f25-49f2-94ce-f35285dce882"
      },
      "outputs": [
        {
          "name": "stdout",
          "output_type": "stream",
          "text": [
            "Test dataset shape: (133, 19)\n"
          ]
        }
      ],
      "source": [
        "# Считываем тестовые данные\n",
        "test = pd.read_csv(\"data/oil_test.csv\")\n",
        "\n",
        "print(f\"Test dataset shape: {test.shape}\")"
      ]
    },
    {
      "cell_type": "code",
      "execution_count": 5,
      "metadata": {
        "colab": {
          "base_uri": "https://localhost:8080/",
          "height": 386
        },
        "id": "HObyO7yYbWT5",
        "outputId": "55b5e632-bf49-4af6-f252-b2360256f4a3"
      },
      "outputs": [
        {
          "data": {
            "text/html": [
              "<div>\n",
              "<style scoped>\n",
              "    .dataframe tbody tr th:only-of-type {\n",
              "        vertical-align: middle;\n",
              "    }\n",
              "\n",
              "    .dataframe tbody tr th {\n",
              "        vertical-align: top;\n",
              "    }\n",
              "\n",
              "    .dataframe thead th {\n",
              "        text-align: right;\n",
              "    }\n",
              "</style>\n",
              "<table border=\"1\" class=\"dataframe\">\n",
              "  <thead>\n",
              "    <tr style=\"text-align: right;\">\n",
              "      <th></th>\n",
              "      <th>Field name</th>\n",
              "      <th>Reservoir unit</th>\n",
              "      <th>Country</th>\n",
              "      <th>Region</th>\n",
              "      <th>Basin name</th>\n",
              "      <th>Tectonic regime</th>\n",
              "      <th>Latitude</th>\n",
              "      <th>Longitude</th>\n",
              "      <th>Operator company</th>\n",
              "      <th>Onshore/Offshore</th>\n",
              "      <th>Hydrocarbon type</th>\n",
              "      <th>Reservoir status</th>\n",
              "      <th>Structural setting</th>\n",
              "      <th>Depth</th>\n",
              "      <th>Reservoir period</th>\n",
              "      <th>Lithology</th>\n",
              "      <th>Thickness (gross average ft)</th>\n",
              "      <th>Thickness (net pay average ft)</th>\n",
              "      <th>Porosity</th>\n",
              "      <th>Permeability</th>\n",
              "    </tr>\n",
              "  </thead>\n",
              "  <tbody>\n",
              "    <tr>\n",
              "      <th>0</th>\n",
              "      <td>ZHIRNOV</td>\n",
              "      <td>MELEKESKIAN</td>\n",
              "      <td>RUSSIA</td>\n",
              "      <td>FORMER SOVIET UNION</td>\n",
              "      <td>VOLGA-URAL</td>\n",
              "      <td>COMPRESSION/EVAPORITE</td>\n",
              "      <td>51.0000</td>\n",
              "      <td>44.8042</td>\n",
              "      <td>NIZHNEVOLZHSKNET</td>\n",
              "      <td>ONSHORE</td>\n",
              "      <td>OIL</td>\n",
              "      <td>DECLINING PRODUCTION</td>\n",
              "      <td>FORELAND</td>\n",
              "      <td>1870</td>\n",
              "      <td>CARBONIFEROUS</td>\n",
              "      <td>SANDSTONE</td>\n",
              "      <td>262.0</td>\n",
              "      <td>33.0</td>\n",
              "      <td>24.0</td>\n",
              "      <td>30.0</td>\n",
              "    </tr>\n",
              "    <tr>\n",
              "      <th>1</th>\n",
              "      <td>LAGOA PARDA</td>\n",
              "      <td>LAGOA PARDA (URUCUTUCA)</td>\n",
              "      <td>BRAZIL</td>\n",
              "      <td>LATIN AMERICA</td>\n",
              "      <td>ESPIRITO SANTO</td>\n",
              "      <td>EXTENSION</td>\n",
              "      <td>-19.6017</td>\n",
              "      <td>-39.8332</td>\n",
              "      <td>PETROBRAS</td>\n",
              "      <td>ONSHORE</td>\n",
              "      <td>OIL</td>\n",
              "      <td>NEARLY DEPLETED</td>\n",
              "      <td>PASSIVE MARGIN</td>\n",
              "      <td>4843</td>\n",
              "      <td>PALEOGENE</td>\n",
              "      <td>SANDSTONE</td>\n",
              "      <td>2133.0</td>\n",
              "      <td>72.0</td>\n",
              "      <td>23.0</td>\n",
              "      <td>350.0</td>\n",
              "    </tr>\n",
              "    <tr>\n",
              "      <th>2</th>\n",
              "      <td>ABQAIQ</td>\n",
              "      <td>ARAB D</td>\n",
              "      <td>SAUDI ARABIA</td>\n",
              "      <td>MIDDLE EAST</td>\n",
              "      <td>THE GULF</td>\n",
              "      <td>COMPRESSION/EVAPORITE</td>\n",
              "      <td>26.0800</td>\n",
              "      <td>49.8100</td>\n",
              "      <td>SAUDI ARAMCO</td>\n",
              "      <td>ONSHORE</td>\n",
              "      <td>OIL</td>\n",
              "      <td>REJUVENATING</td>\n",
              "      <td>FORELAND</td>\n",
              "      <td>6050</td>\n",
              "      <td>JURASSIC</td>\n",
              "      <td>LIMESTONE</td>\n",
              "      <td>250.0</td>\n",
              "      <td>184.0</td>\n",
              "      <td>21.0</td>\n",
              "      <td>410.0</td>\n",
              "    </tr>\n",
              "    <tr>\n",
              "      <th>3</th>\n",
              "      <td>MURCHISON</td>\n",
              "      <td>BRENT</td>\n",
              "      <td>UK /NORWAY</td>\n",
              "      <td>EUROPE</td>\n",
              "      <td>NORTH SEA NORTHERN</td>\n",
              "      <td>EXTENSION</td>\n",
              "      <td>61.3833</td>\n",
              "      <td>1.7500</td>\n",
              "      <td>CNR</td>\n",
              "      <td>OFFSHORE</td>\n",
              "      <td>OIL</td>\n",
              "      <td>NEARLY DEPLETED</td>\n",
              "      <td>RIFT</td>\n",
              "      <td>8988</td>\n",
              "      <td>JURASSIC</td>\n",
              "      <td>SANDSTONE</td>\n",
              "      <td>425.0</td>\n",
              "      <td>300.0</td>\n",
              "      <td>22.0</td>\n",
              "      <td>750.0</td>\n",
              "    </tr>\n",
              "    <tr>\n",
              "      <th>4</th>\n",
              "      <td>WEST PEMBINA</td>\n",
              "      <td>NISKU (PEMBINA L POOL)</td>\n",
              "      <td>CANADA</td>\n",
              "      <td>NORTH AMERICA</td>\n",
              "      <td>WESTERN CANADA</td>\n",
              "      <td>COMPRESSION</td>\n",
              "      <td>53.2287</td>\n",
              "      <td>-115.8008</td>\n",
              "      <td>NUMEROUS</td>\n",
              "      <td>ONSHORE</td>\n",
              "      <td>OIL</td>\n",
              "      <td>UNKNOWN</td>\n",
              "      <td>FORELAND</td>\n",
              "      <td>9306</td>\n",
              "      <td>DEVONIAN</td>\n",
              "      <td>DOLOMITE</td>\n",
              "      <td>233.0</td>\n",
              "      <td>167.0</td>\n",
              "      <td>11.8</td>\n",
              "      <td>1407.0</td>\n",
              "    </tr>\n",
              "  </tbody>\n",
              "</table>\n",
              "</div>"
            ],
            "text/plain": [
              "     Field name           Reservoir unit       Country               Region  \\\n",
              "0       ZHIRNOV              MELEKESKIAN        RUSSIA  FORMER SOVIET UNION   \n",
              "1   LAGOA PARDA  LAGOA PARDA (URUCUTUCA)        BRAZIL        LATIN AMERICA   \n",
              "2        ABQAIQ                   ARAB D  SAUDI ARABIA          MIDDLE EAST   \n",
              "3     MURCHISON                    BRENT    UK /NORWAY               EUROPE   \n",
              "4  WEST PEMBINA   NISKU (PEMBINA L POOL)        CANADA        NORTH AMERICA   \n",
              "\n",
              "           Basin name        Tectonic regime  Latitude  Longitude  \\\n",
              "0          VOLGA-URAL  COMPRESSION/EVAPORITE   51.0000    44.8042   \n",
              "1      ESPIRITO SANTO              EXTENSION  -19.6017   -39.8332   \n",
              "2            THE GULF  COMPRESSION/EVAPORITE   26.0800    49.8100   \n",
              "3  NORTH SEA NORTHERN              EXTENSION   61.3833     1.7500   \n",
              "4      WESTERN CANADA            COMPRESSION   53.2287  -115.8008   \n",
              "\n",
              "   Operator company Onshore/Offshore Hydrocarbon type      Reservoir status  \\\n",
              "0  NIZHNEVOLZHSKNET          ONSHORE              OIL  DECLINING PRODUCTION   \n",
              "1         PETROBRAS          ONSHORE              OIL       NEARLY DEPLETED   \n",
              "2      SAUDI ARAMCO          ONSHORE              OIL          REJUVENATING   \n",
              "3               CNR         OFFSHORE              OIL       NEARLY DEPLETED   \n",
              "4          NUMEROUS          ONSHORE              OIL               UNKNOWN   \n",
              "\n",
              "  Structural setting  Depth Reservoir period  Lithology  \\\n",
              "0           FORELAND   1870    CARBONIFEROUS  SANDSTONE   \n",
              "1     PASSIVE MARGIN   4843        PALEOGENE  SANDSTONE   \n",
              "2           FORELAND   6050         JURASSIC  LIMESTONE   \n",
              "3               RIFT   8988         JURASSIC  SANDSTONE   \n",
              "4           FORELAND   9306         DEVONIAN   DOLOMITE   \n",
              "\n",
              "   Thickness (gross average ft)  Thickness (net pay average ft)  Porosity  \\\n",
              "0                         262.0                            33.0      24.0   \n",
              "1                        2133.0                            72.0      23.0   \n",
              "2                         250.0                           184.0      21.0   \n",
              "3                         425.0                           300.0      22.0   \n",
              "4                         233.0                           167.0      11.8   \n",
              "\n",
              "   Permeability  \n",
              "0          30.0  \n",
              "1         350.0  \n",
              "2         410.0  \n",
              "3         750.0  \n",
              "4        1407.0  "
            ]
          },
          "execution_count": 5,
          "metadata": {},
          "output_type": "execute_result"
        }
      ],
      "source": [
        "# Посмотрим как выглядят данные\n",
        "train.head()"
      ]
    },
    {
      "cell_type": "code",
      "execution_count": 6,
      "metadata": {},
      "outputs": [
        {
          "data": {
            "text/plain": [
              "array(['ONSHORE', 'OFFSHORE', 'ONSHORE-OFFSHORE'], dtype=object)"
            ]
          },
          "execution_count": 6,
          "metadata": {},
          "output_type": "execute_result"
        }
      ],
      "source": [
        "# Посмотрим на возможные значения переменной \n",
        "train[\"Onshore/Offshore\"].unique()"
      ]
    },
    {
      "cell_type": "markdown",
      "metadata": {},
      "source": [
        "И так у нас три класса: 'ONSHORE', 'OFFSHORE', 'ONSHORE-OFFSHORE'"
      ]
    },
    {
      "cell_type": "code",
      "execution_count": 7,
      "metadata": {},
      "outputs": [],
      "source": [
        "# закодируем целевую переменную в числа\n",
        "train[\"Onshore/Offshore\"] = train[\"Onshore/Offshore\"].replace({\"OFFSHORE\":0, \"ONSHORE\":1, \"ONSHORE-OFFSHORE\":2})"
      ]
    },
    {
      "cell_type": "code",
      "execution_count": 8,
      "metadata": {},
      "outputs": [
        {
          "data": {
            "text/plain": [
              "array([1, 0, 2])"
            ]
          },
          "execution_count": 8,
          "metadata": {},
          "output_type": "execute_result"
        }
      ],
      "source": [
        "# проверим результат кодировки\n",
        "train[\"Onshore/Offshore\"].unique()"
      ]
    },
    {
      "cell_type": "code",
      "execution_count": 9,
      "metadata": {},
      "outputs": [
        {
          "data": {
            "text/html": [
              "<div>\n",
              "<style scoped>\n",
              "    .dataframe tbody tr th:only-of-type {\n",
              "        vertical-align: middle;\n",
              "    }\n",
              "\n",
              "    .dataframe tbody tr th {\n",
              "        vertical-align: top;\n",
              "    }\n",
              "\n",
              "    .dataframe thead th {\n",
              "        text-align: right;\n",
              "    }\n",
              "</style>\n",
              "<table border=\"1\" class=\"dataframe\">\n",
              "  <thead>\n",
              "    <tr style=\"text-align: right;\">\n",
              "      <th></th>\n",
              "      <th>Field name</th>\n",
              "      <th>Reservoir unit</th>\n",
              "      <th>Country</th>\n",
              "      <th>Region</th>\n",
              "      <th>Basin name</th>\n",
              "      <th>Tectonic regime</th>\n",
              "      <th>Latitude</th>\n",
              "      <th>Longitude</th>\n",
              "      <th>Operator company</th>\n",
              "      <th>Hydrocarbon type</th>\n",
              "      <th>Reservoir status</th>\n",
              "      <th>Structural setting</th>\n",
              "      <th>Depth</th>\n",
              "      <th>Reservoir period</th>\n",
              "      <th>Lithology</th>\n",
              "      <th>Thickness (gross average ft)</th>\n",
              "      <th>Thickness (net pay average ft)</th>\n",
              "      <th>Porosity</th>\n",
              "      <th>Permeability</th>\n",
              "    </tr>\n",
              "  </thead>\n",
              "  <tbody>\n",
              "    <tr>\n",
              "      <th>0</th>\n",
              "      <td>ABU GHARADIG</td>\n",
              "      <td>BAHARIYA</td>\n",
              "      <td>EGYPT</td>\n",
              "      <td>AFRICA</td>\n",
              "      <td>ABU GHARADIG</td>\n",
              "      <td>EXTENSION</td>\n",
              "      <td>29.7422</td>\n",
              "      <td>28.4925</td>\n",
              "      <td>GUPCO</td>\n",
              "      <td>GAS-CONDENSATE</td>\n",
              "      <td>MATURE PRODUCTION</td>\n",
              "      <td>RIFT</td>\n",
              "      <td>10282</td>\n",
              "      <td>CRETACEOUS</td>\n",
              "      <td>SANDSTONE</td>\n",
              "      <td>745.0</td>\n",
              "      <td>144.0</td>\n",
              "      <td>10.0</td>\n",
              "      <td>8.0</td>\n",
              "    </tr>\n",
              "    <tr>\n",
              "      <th>1</th>\n",
              "      <td>ABU MADI-EL QARA</td>\n",
              "      <td>ABU MADI (LEVEL III)</td>\n",
              "      <td>EGYPT</td>\n",
              "      <td>AFRICA</td>\n",
              "      <td>NILE DELTA</td>\n",
              "      <td>STRIKE-SLIP/TRANSTENSION/SHALE/EVAPORITE/BASEM...</td>\n",
              "      <td>31.4382</td>\n",
              "      <td>31.3616</td>\n",
              "      <td>IEOC</td>\n",
              "      <td>GAS</td>\n",
              "      <td>DECLINING PRODUCTION</td>\n",
              "      <td>WRENCH/DELTA</td>\n",
              "      <td>10499</td>\n",
              "      <td>NEOGENE</td>\n",
              "      <td>SANDSTONE</td>\n",
              "      <td>509.0</td>\n",
              "      <td>410.0</td>\n",
              "      <td>20.0</td>\n",
              "      <td>300.0</td>\n",
              "    </tr>\n",
              "    <tr>\n",
              "      <th>2</th>\n",
              "      <td>ALIBEKMOLA</td>\n",
              "      <td>KT I</td>\n",
              "      <td>KAZAKHSTAN</td>\n",
              "      <td>FORMER SOVIET UNION</td>\n",
              "      <td>CASPIAN NORTH</td>\n",
              "      <td>COMPRESSION/EVAPORITE</td>\n",
              "      <td>48.4740</td>\n",
              "      <td>57.6667</td>\n",
              "      <td>KAZAKHOIL AKTOBE</td>\n",
              "      <td>OIL</td>\n",
              "      <td>DEVELOPING</td>\n",
              "      <td>SUB-SALT/FORELAND</td>\n",
              "      <td>6000</td>\n",
              "      <td>CARBONIFEROUS</td>\n",
              "      <td>LIMESTONE</td>\n",
              "      <td>300.0</td>\n",
              "      <td>105.0</td>\n",
              "      <td>10.0</td>\n",
              "      <td>20.0</td>\n",
              "    </tr>\n",
              "    <tr>\n",
              "      <th>3</th>\n",
              "      <td>ALWYN NORTH</td>\n",
              "      <td>BRENT (BRENT EAST)</td>\n",
              "      <td>UK</td>\n",
              "      <td>EUROPE</td>\n",
              "      <td>NORTH SEA NORTHERN</td>\n",
              "      <td>INVERSION/COMPRESSION/EXTENSION</td>\n",
              "      <td>60.7833</td>\n",
              "      <td>1.7333</td>\n",
              "      <td>TOTAL</td>\n",
              "      <td>OIL</td>\n",
              "      <td>NEARLY DEPLETED</td>\n",
              "      <td>RIFT</td>\n",
              "      <td>9790</td>\n",
              "      <td>JURASSIC</td>\n",
              "      <td>SANDSTONE</td>\n",
              "      <td>886.0</td>\n",
              "      <td>344.0</td>\n",
              "      <td>17.0</td>\n",
              "      <td>500.0</td>\n",
              "    </tr>\n",
              "    <tr>\n",
              "      <th>4</th>\n",
              "      <td>ANKLESHWAR</td>\n",
              "      <td>ANKLESHWAR (HAZAD-ARDOL)</td>\n",
              "      <td>INDIA</td>\n",
              "      <td>FAR EAST</td>\n",
              "      <td>CAMBAY</td>\n",
              "      <td>STRIKE-SLIP/TRANSPRESSION/BASEMENT-I</td>\n",
              "      <td>21.6000</td>\n",
              "      <td>72.9167</td>\n",
              "      <td>ONGC</td>\n",
              "      <td>OIL</td>\n",
              "      <td>MATURE PRODUCTION</td>\n",
              "      <td>WRENCH/RIFT</td>\n",
              "      <td>2950</td>\n",
              "      <td>PALEOGENE</td>\n",
              "      <td>SANDSTONE</td>\n",
              "      <td>670.0</td>\n",
              "      <td>0.0</td>\n",
              "      <td>21.0</td>\n",
              "      <td>250.0</td>\n",
              "    </tr>\n",
              "  </tbody>\n",
              "</table>\n",
              "</div>"
            ],
            "text/plain": [
              "         Field name            Reservoir unit     Country  \\\n",
              "0      ABU GHARADIG                  BAHARIYA       EGYPT   \n",
              "1  ABU MADI-EL QARA      ABU MADI (LEVEL III)       EGYPT   \n",
              "2        ALIBEKMOLA                      KT I  KAZAKHSTAN   \n",
              "3       ALWYN NORTH        BRENT (BRENT EAST)          UK   \n",
              "4        ANKLESHWAR  ANKLESHWAR (HAZAD-ARDOL)       INDIA   \n",
              "\n",
              "                Region          Basin name  \\\n",
              "0               AFRICA        ABU GHARADIG   \n",
              "1               AFRICA          NILE DELTA   \n",
              "2  FORMER SOVIET UNION       CASPIAN NORTH   \n",
              "3               EUROPE  NORTH SEA NORTHERN   \n",
              "4             FAR EAST              CAMBAY   \n",
              "\n",
              "                                     Tectonic regime  Latitude  Longitude  \\\n",
              "0                                          EXTENSION   29.7422    28.4925   \n",
              "1  STRIKE-SLIP/TRANSTENSION/SHALE/EVAPORITE/BASEM...   31.4382    31.3616   \n",
              "2                              COMPRESSION/EVAPORITE   48.4740    57.6667   \n",
              "3                    INVERSION/COMPRESSION/EXTENSION   60.7833     1.7333   \n",
              "4               STRIKE-SLIP/TRANSPRESSION/BASEMENT-I   21.6000    72.9167   \n",
              "\n",
              "   Operator company Hydrocarbon type      Reservoir status Structural setting  \\\n",
              "0             GUPCO   GAS-CONDENSATE     MATURE PRODUCTION               RIFT   \n",
              "1              IEOC              GAS  DECLINING PRODUCTION       WRENCH/DELTA   \n",
              "2  KAZAKHOIL AKTOBE              OIL            DEVELOPING  SUB-SALT/FORELAND   \n",
              "3             TOTAL              OIL       NEARLY DEPLETED               RIFT   \n",
              "4              ONGC              OIL     MATURE PRODUCTION        WRENCH/RIFT   \n",
              "\n",
              "   Depth Reservoir period  Lithology  Thickness (gross average ft)  \\\n",
              "0  10282       CRETACEOUS  SANDSTONE                         745.0   \n",
              "1  10499          NEOGENE  SANDSTONE                         509.0   \n",
              "2   6000    CARBONIFEROUS  LIMESTONE                         300.0   \n",
              "3   9790         JURASSIC  SANDSTONE                         886.0   \n",
              "4   2950        PALEOGENE  SANDSTONE                         670.0   \n",
              "\n",
              "   Thickness (net pay average ft)  Porosity  Permeability  \n",
              "0                           144.0      10.0           8.0  \n",
              "1                           410.0      20.0         300.0  \n",
              "2                           105.0      10.0          20.0  \n",
              "3                           344.0      17.0         500.0  \n",
              "4                             0.0      21.0         250.0  "
            ]
          },
          "execution_count": 9,
          "metadata": {},
          "output_type": "execute_result"
        }
      ],
      "source": [
        "# Посмотрим как выглядят данные\n",
        "test.head()"
      ]
    },
    {
      "cell_type": "code",
      "execution_count": 10,
      "metadata": {},
      "outputs": [],
      "source": [
        "target = \"Onshore/Offshore\""
      ]
    },
    {
      "cell_type": "markdown",
      "metadata": {
        "id": "0rWzZ_3QbaCz"
      },
      "source": [
        "## Исследование данных"
      ]
    },
    {
      "cell_type": "markdown",
      "metadata": {
        "id": "kEfYOHNIbdse"
      },
      "source": [
        "Прежде чем переходить к непосредственному построению модели, в первую очередь необходимо исследовать имеющихся у вас набор данных:\n",
        "1. Какую задачу вы решаете (классификация, регрессия) и какая переменная является целевой?\n",
        "2. Сколько переменных в данных и какого они типа?\n",
        "3. Имеются ли в данных пропуски?"
      ]
    },
    {
      "cell_type": "code",
      "execution_count": 11,
      "metadata": {
        "colab": {
          "base_uri": "https://localhost:8080/"
        },
        "id": "NaKK3CesbeuU",
        "outputId": "e84a5cf9-5ad4-4e58-f9f8-136fc1b98147"
      },
      "outputs": [
        {
          "name": "stdout",
          "output_type": "stream",
          "text": [
            "Number of missing values in train dataset:\n",
            "Field name                         0\n",
            "Reservoir unit                     0\n",
            "Country                           27\n",
            "Region                            38\n",
            "Basin name                        38\n",
            "Tectonic regime                    0\n",
            "Latitude                          27\n",
            "Longitude                         30\n",
            "Operator company                   0\n",
            "Onshore/Offshore                   0\n",
            "Hydrocarbon type                   0\n",
            "Reservoir status                   0\n",
            "Structural setting                 0\n",
            "Depth                              0\n",
            "Reservoir period                   0\n",
            "Lithology                          0\n",
            "Thickness (gross average ft)       0\n",
            "Thickness (net pay average ft)     0\n",
            "Porosity                           0\n",
            "Permeability                       0\n",
            "dtype: int64\n",
            "Number of missing values in test dataset:\n",
            "Field name                         0\n",
            "Reservoir unit                     0\n",
            "Country                           13\n",
            "Region                            16\n",
            "Basin name                         8\n",
            "Tectonic regime                    0\n",
            "Latitude                          13\n",
            "Longitude                         16\n",
            "Operator company                   0\n",
            "Hydrocarbon type                   0\n",
            "Reservoir status                   0\n",
            "Structural setting                 0\n",
            "Depth                              0\n",
            "Reservoir period                   0\n",
            "Lithology                          0\n",
            "Thickness (gross average ft)       0\n",
            "Thickness (net pay average ft)     0\n",
            "Porosity                           0\n",
            "Permeability                       0\n",
            "dtype: int64\n"
          ]
        }
      ],
      "source": [
        "print(\"Number of missing values in train dataset:\")\n",
        "print(train.isna().sum())\n",
        "print(\"Number of missing values in test dataset:\")\n",
        "print(test.isna().sum())"
      ]
    },
    {
      "cell_type": "code",
      "execution_count": 12,
      "metadata": {
        "colab": {
          "base_uri": "https://localhost:8080/"
        },
        "id": "bazQvSFTbmP6",
        "outputId": "c1caa5bb-2def-4d9c-f878-21ce18894733"
      },
      "outputs": [
        {
          "name": "stdout",
          "output_type": "stream",
          "text": [
            "<class 'pandas.core.frame.DataFrame'>\n",
            "RangeIndex: 309 entries, 0 to 308\n",
            "Data columns (total 20 columns):\n",
            " #   Column                          Non-Null Count  Dtype  \n",
            "---  ------                          --------------  -----  \n",
            " 0   Field name                      309 non-null    object \n",
            " 1   Reservoir unit                  309 non-null    object \n",
            " 2   Country                         282 non-null    object \n",
            " 3   Region                          271 non-null    object \n",
            " 4   Basin name                      271 non-null    object \n",
            " 5   Tectonic regime                 309 non-null    object \n",
            " 6   Latitude                        282 non-null    float64\n",
            " 7   Longitude                       279 non-null    float64\n",
            " 8   Operator company                309 non-null    object \n",
            " 9   Onshore/Offshore                309 non-null    int64  \n",
            " 10  Hydrocarbon type                309 non-null    object \n",
            " 11  Reservoir status                309 non-null    object \n",
            " 12  Structural setting              309 non-null    object \n",
            " 13  Depth                           309 non-null    int64  \n",
            " 14  Reservoir period                309 non-null    object \n",
            " 15  Lithology                       309 non-null    object \n",
            " 16  Thickness (gross average ft)    309 non-null    float64\n",
            " 17  Thickness (net pay average ft)  309 non-null    float64\n",
            " 18  Porosity                        309 non-null    float64\n",
            " 19  Permeability                    309 non-null    float64\n",
            "dtypes: float64(6), int64(2), object(12)\n",
            "memory usage: 48.4+ KB\n"
          ]
        }
      ],
      "source": [
        "train.info()"
      ]
    },
    {
      "cell_type": "markdown",
      "metadata": {
        "id": "_YDWDh8XcI79"
      },
      "source": [
        "**Проверим баланс классов.**\n",
        "\n",
        "В задаче классификации данные называются несбалансированными (Imbalanced Data), если в обучающей выборке доли объектов разных классов существенно различаются, также говорят, что «классы не сбалансированы»."
      ]
    },
    {
      "cell_type": "code",
      "execution_count": 13,
      "metadata": {
        "colab": {
          "base_uri": "https://localhost:8080/"
        },
        "id": "gUlB5iR-b8-b",
        "outputId": "284396ab-dde0-4b71-d67e-8580af3c3a05"
      },
      "outputs": [
        {
          "data": {
            "text/plain": [
              "1    218\n",
              "0     86\n",
              "2      5\n",
              "Name: Onshore/Offshore, dtype: int64"
            ]
          },
          "execution_count": 13,
          "metadata": {},
          "output_type": "execute_result"
        }
      ],
      "source": [
        "train[target].value_counts()"
      ]
    },
    {
      "cell_type": "code",
      "execution_count": 14,
      "metadata": {
        "colab": {
          "base_uri": "https://localhost:8080/",
          "height": 0
        },
        "id": "jv-e5ow3dB6y",
        "outputId": "d28c676b-4a43-4a75-eb4a-66fc190ae7d6"
      },
      "outputs": [
        {
          "data": {
            "image/png": "[encoded data removed]",
            "text/plain": [
              "<Figure size 432x288 with 1 Axes>"
            ]
          },
          "metadata": {
            "needs_background": "light"
          },
          "output_type": "display_data"
        }
      ],
      "source": [
        "sns.set(style=\"white\")\n",
        "sns.set(style=\"whitegrid\", color_codes=True)\n",
        "y_data = pd.DataFrame(train[target])\n",
        "sns.countplot(x=target, data=y_data, palette='hls')\n",
        "plt.show()"
      ]
    },
    {
      "cell_type": "markdown",
      "metadata": {},
      "source": [
        "В задаче три класса, при этом класс \"ONSHORE-OFFSHORE\" невероятно малочисленный.\n",
        "Есть ощущение, что возможно этот класс вообще можно удалить.\n",
        "\n",
        "Так и поступим, выбросим строчки с классом \"ONSHORE-OFFSHORE\", которому был присвоен номер 2.\n",
        "Модель тоже будем обучать только на классы \"OFFSHORE\":0, \"ONSHORE\":1."
      ]
    },
    {
      "cell_type": "code",
      "execution_count": 15,
      "metadata": {},
      "outputs": [
        {
          "name": "stdout",
          "output_type": "stream",
          "text": [
            "Int64Index([64, 92, 134, 185, 220], dtype='int64')\n"
          ]
        }
      ],
      "source": [
        "# удалим все ряды train[\"Onshore/Offshore\"] == 2 (класс \"ONSHORE-OFFSHORE\")\n",
        "index_names = train[train[target] == 2].index\n",
        "print(index_names)\n",
        "train.drop(index_names , inplace=True)"
      ]
    },
    {
      "cell_type": "code",
      "execution_count": 17,
      "metadata": {},
      "outputs": [
        {
          "data": {
            "text/plain": [
              "0"
            ]
          },
          "execution_count": 17,
          "metadata": {},
          "output_type": "execute_result"
        }
      ],
      "source": [
        "# проверим остались ли ряды train[\"Onshore/Offshore\"] == 2 (класс \"ONSHORE-OFFSHORE\")\n",
        "len(train[train[target] == 2])"
      ]
    },
    {
      "cell_type": "markdown",
      "metadata": {
        "id": "uAgv8_SCbrHo"
      },
      "source": [
        "## Предобработка данных"
      ]
    },
    {
      "cell_type": "markdown",
      "metadata": {
        "id": "XvLR4TMZbuns"
      },
      "source": [
        "Исходя из анализа данных, можно сделать выводы:\n",
        "- в данных пропуски есть их мало, но SberAutoML умеет подбирать стратегию их заполнения на основе метрик. (Сейчас я сильно тороплюсь поэтому оставлю этот выбор за фреймворком)\n",
        "- в данных имеются категориальные признаки\n",
        "- в задаче решается задача классификации. Три класса, один невероятно малочисленный скорее всего модель его не выучит. Возможно стоит рассмотреть задачу бинарной классификации. И выкинуть данные о классе \"ONSHORE-OFFSHORE\".\n",
        "- существует небольшой дисбаланс классов: (класс 0) примерно в два раза меньше, чем класс 1. Класс 2 вообще практически не представлен."
      ]
    },
    {
      "cell_type": "markdown",
      "metadata": {
        "id": "0LHpErJTjTz7"
      },
      "source": [
        "### Кодирование признаков"
      ]
    },
    {
      "cell_type": "markdown",
      "metadata": {
        "id": "vRQYZJ2yjgS5"
      },
      "source": [
        "**Категориальные признаки называют по-разному: факторными, номинальными.**\n",
        "\n",
        "Их значения определяют факт принадлежности к какой-то категории. Примеры таких признаков: пол, страна проживания, номер группы, категория товаров и т.п. Ясно, что для компьютерной обработки вместо «понятного для человека» значения (в случае страны — ‘Russia’, ‘GB’, ‘France’ и т.п.) хранят числа. "
      ]
    },
    {
      "cell_type": "markdown",
      "metadata": {
        "id": "2g2tYEQfjkIV"
      },
      "source": [
        "**Категориальные** признаки называют по-разному: **факторными**, **номинальными**. Их значения определяют факт принадлежности к какой-то категории. \n",
        "\n",
        "Примеры таких признаков: пол, страна проживания, номер группы, категория товаров и т.п. Ясно, что для компьютерной обработки вместо «понятного для человека» значения (в случае страны — ‘Russia’, ‘GB’, ‘France’ и т.п.) хранят числа."
      ]
    },
    {
      "cell_type": "code",
      "execution_count": 18,
      "metadata": {},
      "outputs": [
        {
          "name": "stdout",
          "output_type": "stream",
          "text": [
            "Field name\n",
            "Reservoir unit\n",
            "Country\n",
            "Region\n",
            "Basin name\n",
            "Tectonic regime\n",
            "Operator company\n",
            "Hydrocarbon type\n",
            "Reservoir status\n",
            "Structural setting\n",
            "Reservoir period\n",
            "Lithology\n"
          ]
        }
      ],
      "source": [
        "# Перечислим колонки которые являются категоритальными признаками\n",
        "# выбрали датафраме test, чтобы в списке признаков не было целевой переменной\n",
        "\n",
        "category_features = []\n",
        "for col_name in test.loc[:, train.dtypes == object].columns:\n",
        "    print(col_name)\n",
        "    category_features.append(col_name)"
      ]
    },
    {
      "cell_type": "code",
      "execution_count": 19,
      "metadata": {},
      "outputs": [
        {
          "name": "stdout",
          "output_type": "stream",
          "text": [
            "Latitude\n",
            "Longitude\n",
            "Depth\n",
            "Thickness (gross average ft)\n",
            "Thickness (net pay average ft)\n",
            "Porosity\n",
            "Permeability\n"
          ]
        }
      ],
      "source": [
        "# Перечислим колонки которые являются количественными(числовыми) признаками\n",
        "# выбрали датафраме test, чтобы в списке признаков не было целевой переменной\n",
        "\n",
        "numeric_features = []\n",
        "for col_name in test.loc[:, train.dtypes != object].columns:\n",
        "    print(col_name)\n",
        "    numeric_features.append(col_name)"
      ]
    },
    {
      "cell_type": "markdown",
      "metadata": {},
      "source": [
        "У используемой мной библиотеки lightAutoLM от Сбера есть своя встроенная обработка категориальных данных.\n",
        "Нам нужно пр постановке задачи просто указать какие колонки являются количественными(числовыми), а какие категориальными.\n",
        "Что мы и сделаем."
      ]
    },
    {
      "cell_type": "markdown",
      "metadata": {},
      "source": [
        "Бывает, что распределения числовых признаков в предоставленных данных могут сильно отличаться.\n",
        "Например, некоторый параметр \"цена бронирования\" имеет в train выборе распределение от 0 до 1000, а в тесте от 5000 до 10000.\n",
        "Таким образом модель обученная по выборке train будет работать в диапазоне значений который не встречается в test выборке.\n",
        "Простейший способ борьбы с этим явлением - избавиться от такого признака при обучении модели."
      ]
    },
    {
      "cell_type": "code",
      "execution_count": 20,
      "metadata": {},
      "outputs": [
        {
          "name": "stderr",
          "output_type": "stream",
          "text": [
            "/home/admin-gpu/anaconda3/envs/sber_lama/lib/python3.9/site-packages/seaborn/distributions.py:2619: FutureWarning: `distplot` is a deprecated function and will be removed in a future version. Please adapt your code to use either `displot` (a figure-level function with similar flexibility) or `kdeplot` (an axes-level function for kernel density plots).\n",
            "  warnings.warn(msg, FutureWarning)\n",
            "/home/admin-gpu/anaconda3/envs/sber_lama/lib/python3.9/site-packages/seaborn/distributions.py:2619: FutureWarning: `distplot` is a deprecated function and will be removed in a future version. Please adapt your code to use either `displot` (a figure-level function with similar flexibility) or `kdeplot` (an axes-level function for kernel density plots).\n",
            "  warnings.warn(msg, FutureWarning)\n"
          ]
        },
        {
          "data": {
            "image/png": "[encoded data removed]",
            "text/plain": [
              "<Figure size 432x288 with 1 Axes>"
            ]
          },
          "metadata": {
            "needs_background": "light"
          },
          "output_type": "display_data"
        },
        {
          "name": "stderr",
          "output_type": "stream",
          "text": [
            "/home/admin-gpu/anaconda3/envs/sber_lama/lib/python3.9/site-packages/seaborn/distributions.py:2619: FutureWarning: `distplot` is a deprecated function and will be removed in a future version. Please adapt your code to use either `displot` (a figure-level function with similar flexibility) or `kdeplot` (an axes-level function for kernel density plots).\n",
            "  warnings.warn(msg, FutureWarning)\n",
            "/home/admin-gpu/anaconda3/envs/sber_lama/lib/python3.9/site-packages/seaborn/distributions.py:2619: FutureWarning: `distplot` is a deprecated function and will be removed in a future version. Please adapt your code to use either `displot` (a figure-level function with similar flexibility) or `kdeplot` (an axes-level function for kernel density plots).\n",
            "  warnings.warn(msg, FutureWarning)\n"
          ]
        },
        {
          "data": {
            "image/png": "[encoded data removed]",
            "text/plain": [
              "<Figure size 432x288 with 1 Axes>"
            ]
          },
          "metadata": {
            "needs_background": "light"
          },
          "output_type": "display_data"
        },
        {
          "name": "stderr",
          "output_type": "stream",
          "text": [
            "/home/admin-gpu/anaconda3/envs/sber_lama/lib/python3.9/site-packages/seaborn/distributions.py:2619: FutureWarning: `distplot` is a deprecated function and will be removed in a future version. Please adapt your code to use either `displot` (a figure-level function with similar flexibility) or `kdeplot` (an axes-level function for kernel density plots).\n",
            "  warnings.warn(msg, FutureWarning)\n",
            "/home/admin-gpu/anaconda3/envs/sber_lama/lib/python3.9/site-packages/seaborn/distributions.py:2619: FutureWarning: `distplot` is a deprecated function and will be removed in a future version. Please adapt your code to use either `displot` (a figure-level function with similar flexibility) or `kdeplot` (an axes-level function for kernel density plots).\n",
            "  warnings.warn(msg, FutureWarning)\n"
          ]
        },
        {
          "data": {
            "image/png": "[encoded data removed]",
            "text/plain": [
              "<Figure size 432x288 with 1 Axes>"
            ]
          },
          "metadata": {
            "needs_background": "light"
          },
          "output_type": "display_data"
        },
        {
          "name": "stderr",
          "output_type": "stream",
          "text": [
            "/home/admin-gpu/anaconda3/envs/sber_lama/lib/python3.9/site-packages/seaborn/distributions.py:2619: FutureWarning: `distplot` is a deprecated function and will be removed in a future version. Please adapt your code to use either `displot` (a figure-level function with similar flexibility) or `kdeplot` (an axes-level function for kernel density plots).\n",
            "  warnings.warn(msg, FutureWarning)\n",
            "/home/admin-gpu/anaconda3/envs/sber_lama/lib/python3.9/site-packages/seaborn/distributions.py:2619: FutureWarning: `distplot` is a deprecated function and will be removed in a future version. Please adapt your code to use either `displot` (a figure-level function with similar flexibility) or `kdeplot` (an axes-level function for kernel density plots).\n",
            "  warnings.warn(msg, FutureWarning)\n"
          ]
        },
        {
          "data": {
            "image/png": "[encoded data removed]",
            "text/plain": [
              "<Figure size 432x288 with 1 Axes>"
            ]
          },
          "metadata": {
            "needs_background": "light"
          },
          "output_type": "display_data"
        },
        {
          "name": "stderr",
          "output_type": "stream",
          "text": [
            "/home/admin-gpu/anaconda3/envs/sber_lama/lib/python3.9/site-packages/seaborn/distributions.py:2619: FutureWarning: `distplot` is a deprecated function and will be removed in a future version. Please adapt your code to use either `displot` (a figure-level function with similar flexibility) or `kdeplot` (an axes-level function for kernel density plots).\n",
            "  warnings.warn(msg, FutureWarning)\n",
            "/home/admin-gpu/anaconda3/envs/sber_lama/lib/python3.9/site-packages/seaborn/distributions.py:2619: FutureWarning: `distplot` is a deprecated function and will be removed in a future version. Please adapt your code to use either `displot` (a figure-level function with similar flexibility) or `kdeplot` (an axes-level function for kernel density plots).\n",
            "  warnings.warn(msg, FutureWarning)\n"
          ]
        },
        {
          "data": {
            "image/png": "[encoded data removed]",
            "text/plain": [
              "<Figure size 432x288 with 1 Axes>"
            ]
          },
          "metadata": {
            "needs_background": "light"
          },
          "output_type": "display_data"
        },
        {
          "name": "stderr",
          "output_type": "stream",
          "text": [
            "/home/admin-gpu/anaconda3/envs/sber_lama/lib/python3.9/site-packages/seaborn/distributions.py:2619: FutureWarning: `distplot` is a deprecated function and will be removed in a future version. Please adapt your code to use either `displot` (a figure-level function with similar flexibility) or `kdeplot` (an axes-level function for kernel density plots).\n",
            "  warnings.warn(msg, FutureWarning)\n",
            "/home/admin-gpu/anaconda3/envs/sber_lama/lib/python3.9/site-packages/seaborn/distributions.py:2619: FutureWarning: `distplot` is a deprecated function and will be removed in a future version. Please adapt your code to use either `displot` (a figure-level function with similar flexibility) or `kdeplot` (an axes-level function for kernel density plots).\n",
            "  warnings.warn(msg, FutureWarning)\n"
          ]
        },
        {
          "data": {
            "image/png": "[encoded data removed]",
            "text/plain": [
              "<Figure size 432x288 with 1 Axes>"
            ]
          },
          "metadata": {
            "needs_background": "light"
          },
          "output_type": "display_data"
        },
        {
          "name": "stderr",
          "output_type": "stream",
          "text": [
            "/home/admin-gpu/anaconda3/envs/sber_lama/lib/python3.9/site-packages/seaborn/distributions.py:2619: FutureWarning: `distplot` is a deprecated function and will be removed in a future version. Please adapt your code to use either `displot` (a figure-level function with similar flexibility) or `kdeplot` (an axes-level function for kernel density plots).\n",
            "  warnings.warn(msg, FutureWarning)\n",
            "/home/admin-gpu/anaconda3/envs/sber_lama/lib/python3.9/site-packages/seaborn/distributions.py:2619: FutureWarning: `distplot` is a deprecated function and will be removed in a future version. Please adapt your code to use either `displot` (a figure-level function with similar flexibility) or `kdeplot` (an axes-level function for kernel density plots).\n",
            "  warnings.warn(msg, FutureWarning)\n"
          ]
        },
        {
          "data": {
            "image/png": "[encoded data removed]",
            "text/plain": [
              "<Figure size 432x288 with 1 Axes>"
            ]
          },
          "metadata": {
            "needs_background": "light"
          },
          "output_type": "display_data"
        }
      ],
      "source": [
        "# Мы хотим посмотреть распределения значений у количественных признаков между выборками train и test\n",
        "\n",
        "for col_i in test.loc[:, train.dtypes != object].columns:\n",
        "    sns.distplot(train[[col_i]], hist=False)\n",
        "    sns.distplot(test[[col_i]], hist=False)\n",
        "    plt.title(col_i)\n",
        "    plt.show()"
      ]
    },
    {
      "cell_type": "markdown",
      "metadata": {},
      "source": [
        "## Вывод -  выборки train и test гомогенны\n",
        "Мы видим, что распределения очень похожи а выборки train и test - гомогенны. Можно работать со всеми числовыми признаками )"
      ]
    },
    {
      "cell_type": "markdown",
      "metadata": {},
      "source": [
        "## Разделяем train-выборку на train (80%) и val(20%)"
      ]
    },
    {
      "cell_type": "code",
      "execution_count": 21,
      "metadata": {},
      "outputs": [
        {
          "name": "stdout",
          "output_type": "stream",
          "text": [
            "Parts sizes: tr_data = (243, 20), valid_data = (61, 20)\n"
          ]
        }
      ],
      "source": [
        "# Разобьем выборку на обучающую и валидационную\n",
        "tr_data, valid_data = train_test_split(train, \n",
        "                                       test_size=0.2, \n",
        "                                       stratify=train[target], \n",
        "                                       random_state=42)\n",
        "\n",
        "print(f'Parts sizes: tr_data = {tr_data.shape}, valid_data = {valid_data.shape}')"
      ]
    },
    {
      "cell_type": "markdown",
      "metadata": {
        "id": "ZZu6c22TOehx"
      },
      "source": [
        "## Обучение модели"
      ]
    },
    {
      "cell_type": "markdown",
      "metadata": {
        "id": "K41rZhCIOh7C"
      },
      "source": [
        "Теперь наши данные готовы для обучения модели."
      ]
    },
    {
      "cell_type": "markdown",
      "metadata": {},
      "source": [
        "## Ставим задачу машинного обучения используем все"
      ]
    },
    {
      "cell_type": "code",
      "execution_count": 25,
      "metadata": {},
      "outputs": [],
      "source": [
        "# https://lightautoml.readthedocs.io/en/latest/python_api/generated/lightautoml.tasks.base.Task.html#lightautoml.tasks.base.Task\n",
        "task = Task('binary', loss= 'logloss', metric = 'logloss')"
      ]
    },
    {
      "cell_type": "code",
      "execution_count": 26,
      "metadata": {},
      "outputs": [
        {
          "data": {
            "text/plain": [
              "['Field name',\n",
              " 'Reservoir unit',\n",
              " 'Country',\n",
              " 'Region',\n",
              " 'Basin name',\n",
              " 'Tectonic regime',\n",
              " 'Operator company',\n",
              " 'Hydrocarbon type',\n",
              " 'Reservoir status',\n",
              " 'Structural setting',\n",
              " 'Reservoir period',\n",
              " 'Lithology']"
            ]
          },
          "execution_count": 26,
          "metadata": {},
          "output_type": "execute_result"
        }
      ],
      "source": [
        "category_features"
      ]
    },
    {
      "cell_type": "code",
      "execution_count": 27,
      "metadata": {},
      "outputs": [
        {
          "data": {
            "text/plain": [
              "['Latitude',\n",
              " 'Longitude',\n",
              " 'Depth',\n",
              " 'Thickness (gross average ft)',\n",
              " 'Thickness (net pay average ft)',\n",
              " 'Porosity',\n",
              " 'Permeability']"
            ]
          },
          "execution_count": 27,
          "metadata": {},
          "output_type": "execute_result"
        }
      ],
      "source": [
        "numeric_features"
      ]
    },
    {
      "cell_type": "code",
      "execution_count": 28,
      "metadata": {},
      "outputs": [],
      "source": [
        "roles = {'target': target,\n",
        "         'numeric': numeric_features,\n",
        "         'category': category_features\n",
        "         }"
      ]
    },
    {
      "cell_type": "code",
      "execution_count": 29,
      "metadata": {},
      "outputs": [],
      "source": [
        "# Эксперименты показали, что в итоговой блендинг модели наибольший вклад\n",
        "# около 95% имеет модель градиентного бустинга lgb.\n",
        "# Вклад Логистической регрессии с l2-регуляризацией менее 1%.\n",
        "# Вклад градиентного бустинга CatBoost составил 5%.\n",
        "# В итоговом решении я оставил только эту модель.\n",
        "automl = TabularAutoML(task = task, \n",
        "                    timeout = 3600 * 3, # 3600 секунд = 1 час\n",
        "                    general_params = {'use_algos': [['cb', 'lgb', 'linear_l2']]},\n",
        "                    cb_params = {'default_params': {'task_type': 'GPU'}},\n",
        "                    reader_params = {'n_jobs': 12},\n",
        "                    timing_params ={'mode': 0}\n",
        "                    )"
      ]
    },
    {
      "cell_type": "code",
      "execution_count": 30,
      "metadata": {},
      "outputs": [
        {
          "name": "stdout",
          "output_type": "stream",
          "text": [
            "[10:33:52] Stdout logging level is DEBUG.\n",
            "[10:33:52] Copying TaskTimer may affect the parent PipelineTimer, so copy will create new unlimited TaskTimer\n",
            "[10:33:52] Task: binary\n",
            "\n",
            "[10:33:52] Start automl preset with listed constraints:\n",
            "[10:33:52] - time: 10800.00 seconds\n",
            "[10:33:52] - CPU: 4 cores\n",
            "[10:33:52] - memory: 16 GB\n",
            "\n",
            "[10:33:52] \u001b[1mTrain data shape: (243, 20)\u001b[0m\n",
            "\n",
            "[10:33:53] Feats was rejected during automatic roles guess: []\n",
            "[10:33:53] Layer \u001b[1m1\u001b[0m train process start. Time left 10799.29 secs\n",
            "[10:33:53] Start fitting \u001b[1mLvl_0_Pipe_0_Mod_0_LinearL2\u001b[0m ...\n",
            "[10:33:53] Training params: {'tol': 1e-06, 'max_iter': 100, 'cs': [1e-05, 5e-05, 0.0001, 0.0005, 0.001, 0.005, 0.01, 0.05, 0.1, 0.5, 1, 5, 10, 50, 100, 500, 1000, 5000, 10000, 50000, 100000], 'early_stopping': 2, 'categorical_idx': [29, 30, 31, 32, 33, 34, 35, 36], 'embed_sizes': array([11,  9,  9,  5,  9, 12,  9, 11], dtype=int32), 'data_size': 37}\n",
            "[10:33:53] ===== Start working with \u001b[1mfold 0\u001b[0m for \u001b[1mLvl_0_Pipe_0_Mod_0_LinearL2\u001b[0m =====\n",
            "[10:33:53] Linear model: C = 1e-05 score = -0.5961445837604756\n",
            "[10:33:53] Linear model: C = 5e-05 score = -0.587907752212213\n",
            "[10:33:53] Linear model: C = 0.0001 score = -0.5784101838968239\n",
            "[10:33:53] Linear model: C = 0.0005 score = -0.5227443460299044\n",
            "[10:33:53] Linear model: C = 0.001 score = -0.4806913172408026\n",
            "[10:33:53] Linear model: C = 0.005 score = -0.37272074050745185\n",
            "[10:33:53] Linear model: C = 0.01 score = -0.33425902550545883\n",
            "[10:33:53] Linear model: C = 0.05 score = -0.2815748618117401\n",
            "[10:33:53] Linear model: C = 0.1 score = -0.2764305091588948\n",
            "[10:33:53] Linear model: C = 0.5 score = -0.3041487575382587\n",
            "[10:33:53] Linear model: C = 1 score = -0.33257837543292873\n",
            "[10:33:53] ===== Start working with \u001b[1mfold 1\u001b[0m for \u001b[1mLvl_0_Pipe_0_Mod_0_LinearL2\u001b[0m =====\n",
            "[10:33:53] Linear model: C = 1e-05 score = -0.5959246043039828\n",
            "[10:33:53] Linear model: C = 5e-05 score = -0.5869288219481098\n",
            "[10:33:53] Linear model: C = 0.0001 score = -0.5763364385585396\n",
            "[10:33:53] Linear model: C = 0.0005 score = -0.5155013833118944\n",
            "[10:33:53] Linear model: C = 0.001 score = -0.47113613328155207\n",
            "[10:33:53] Linear model: C = 0.005 score = -0.36644195240675187\n",
            "[10:33:53] Linear model: C = 0.01 score = -0.3302879340338464\n",
            "[10:33:53] Linear model: C = 0.05 score = -0.266555988607567\n",
            "[10:33:53] Linear model: C = 0.1 score = -0.25161787691794585\n"
          ]
        },
        {
          "name": "stderr",
          "output_type": "stream",
          "text": [
            "/home/admin-gpu/anaconda3/envs/sber_lama/lib/python3.9/site-packages/numpy/lib/nanfunctions.py:1217: RuntimeWarning: All-NaN slice encountered\n",
            "  r, k = function_base._ureduce(a, func=_nanmedian, axis=axis, out=out,\n"
          ]
        },
        {
          "name": "stdout",
          "output_type": "stream",
          "text": [
            "[10:33:53] Linear model: C = 0.5 score = -0.2549548637698628\n",
            "[10:33:53] Linear model: C = 1 score = -0.2729066414309993\n",
            "[10:33:53] ===== Start working with \u001b[1mfold 2\u001b[0m for \u001b[1mLvl_0_Pipe_0_Mod_0_LinearL2\u001b[0m =====\n",
            "[10:33:53] Linear model: C = 1e-05 score = -0.596284028218717\n",
            "[10:33:53] Linear model: C = 5e-05 score = -0.5886192528568969\n",
            "[10:33:53] Linear model: C = 0.0001 score = -0.5798180839236902\n",
            "[10:33:53] Linear model: C = 0.0005 score = -0.5288161866518916\n",
            "[10:33:53] Linear model: C = 0.001 score = -0.49165049651447607\n",
            "[10:33:53] Linear model: C = 0.005 score = -0.40178858887936386\n",
            "[10:33:53] Linear model: C = 0.01 score = -0.3728093587204206\n",
            "[10:33:53] Linear model: C = 0.05 score = -0.34003639918257844\n",
            "[10:33:53] Linear model: C = 0.1 score = -0.3418564826454397\n",
            "[10:33:53] Linear model: C = 0.5 score = -0.3904690580476403\n",
            "[10:33:53] ===== Start working with \u001b[1mfold 3\u001b[0m for \u001b[1mLvl_0_Pipe_0_Mod_0_LinearL2\u001b[0m =====\n",
            "[10:33:53] Linear model: C = 1e-05 score = -0.5828537233173847\n",
            "[10:33:53] Linear model: C = 5e-05 score = -0.5754954547931751\n",
            "[10:33:53] Linear model: C = 0.0001 score = -0.5669740854452053\n",
            "[10:33:53] Linear model: C = 0.0005 score = -0.517790071045359\n",
            "[10:33:53] Linear model: C = 0.001 score = -0.48072784300893545\n",
            "[10:33:53] Linear model: C = 0.005 score = -0.3863063424360007\n",
            "[10:33:53] Linear model: C = 0.01 score = -0.3521862037790318\n",
            "[10:33:53] Linear model: C = 0.05 score = -0.3020910084596835\n",
            "[10:33:53] Linear model: C = 0.1 score = -0.29446356105351396\n",
            "[10:33:53] Linear model: C = 0.5 score = -0.3277039280918264\n",
            "[10:33:53] Linear model: C = 1 score = -0.3779709564670384\n",
            "[10:33:53] ===== Start working with \u001b[1mfold 4\u001b[0m for \u001b[1mLvl_0_Pipe_0_Mod_0_LinearL2\u001b[0m =====\n",
            "[10:33:53] Linear model: C = 1e-05 score = -0.6017904902497927\n",
            "[10:33:53] Linear model: C = 5e-05 score = -0.5937161731223265\n",
            "[10:33:53] Linear model: C = 0.0001 score = -0.5846579372882843\n",
            "[10:33:53] Linear model: C = 0.0005 score = -0.5324680355067054\n",
            "[10:33:53] Linear model: C = 0.001 score = -0.49462085248281557\n",
            "[10:33:53] Linear model: C = 0.005 score = -0.40888044695990783\n",
            "[10:33:53] Linear model: C = 0.01 score = -0.3837425576542349\n",
            "[10:33:53] Linear model: C = 0.05 score = -0.3567387979552829\n",
            "[10:33:53] Linear model: C = 0.1 score = -0.3574098010164259\n",
            "[10:33:53] Linear model: C = 0.5 score = -0.38639853959215503\n",
            "[10:33:53] Fitting \u001b[1mLvl_0_Pipe_0_Mod_0_LinearL2\u001b[0m finished. score = \u001b[1m-0.30367846794293735\u001b[0m\n",
            "[10:33:53] \u001b[1mLvl_0_Pipe_0_Mod_0_LinearL2\u001b[0m fitting and predicting completed\n",
            "[10:33:53] Time left 10798.74 secs\n",
            "\n",
            "[10:33:53] Training until validation scores don't improve for 200 rounds\n",
            "[10:33:53] [100]\tvalid's binary_logloss: 0.375204\n",
            "[10:33:53] [200]\tvalid's binary_logloss: 0.308477\n",
            "[10:33:53] [300]\tvalid's binary_logloss: 0.284761\n",
            "[10:33:53] [400]\tvalid's binary_logloss: 0.275362\n",
            "[10:33:53] [500]\tvalid's binary_logloss: 0.272407\n",
            "[10:33:53] [600]\tvalid's binary_logloss: 0.270282\n",
            "[10:33:53] [700]\tvalid's binary_logloss: 0.271975\n",
            "[10:33:53] Early stopping, best iteration is:\n",
            "[581]\tvalid's binary_logloss: 0.269275\n",
            "[10:33:53] \u001b[1mSelector_LightGBM\u001b[0m fitting and predicting completed\n",
            "[10:33:54] Start fitting \u001b[1mLvl_0_Pipe_1_Mod_0_LightGBM\u001b[0m ...\n",
            "[10:33:54] Training params: {'task': 'train', 'learning_rate': 0.01, 'num_leaves': 16, 'feature_fraction': 0.7, 'bagging_fraction': 0.7, 'bagging_freq': 1, 'max_depth': -1, 'verbosity': -1, 'reg_alpha': 1, 'reg_lambda': 0.0, 'min_split_gain': 0.0, 'zero_as_missing': False, 'num_threads': 4, 'max_bin': 255, 'min_data_in_bin': 3, 'num_trees': 3000, 'early_stopping_rounds': 200, 'random_state': 42}\n",
            "[10:33:54] ===== Start working with \u001b[1mfold 0\u001b[0m for \u001b[1mLvl_0_Pipe_1_Mod_0_LightGBM\u001b[0m =====\n",
            "[10:33:54] Training until validation scores don't improve for 200 rounds\n",
            "[10:33:54] [100]\tvalid's binary_logloss: 0.381455\n",
            "[10:33:54] [200]\tvalid's binary_logloss: 0.311053\n",
            "[10:33:54] [300]\tvalid's binary_logloss: 0.281821\n",
            "[10:33:54] [400]\tvalid's binary_logloss: 0.26876\n",
            "[10:33:54] [500]\tvalid's binary_logloss: 0.264989\n",
            "[10:33:54] [600]\tvalid's binary_logloss: 0.262677\n",
            "[10:33:54] [700]\tvalid's binary_logloss: 0.264462\n",
            "[10:33:54] [800]\tvalid's binary_logloss: 0.266148\n",
            "[10:33:54] Early stopping, best iteration is:\n",
            "[654]\tvalid's binary_logloss: 0.261079\n",
            "[10:33:54] ===== Start working with \u001b[1mfold 1\u001b[0m for \u001b[1mLvl_0_Pipe_1_Mod_0_LightGBM\u001b[0m =====\n",
            "[10:33:54] Training until validation scores don't improve for 200 rounds\n",
            "[10:33:54] [100]\tvalid's binary_logloss: 0.410747\n",
            "[10:33:54] [200]\tvalid's binary_logloss: 0.344863\n",
            "[10:33:54] [300]\tvalid's binary_logloss: 0.322234\n",
            "[10:33:54] [400]\tvalid's binary_logloss: 0.30796\n",
            "[10:33:54] [500]\tvalid's binary_logloss: 0.306116\n",
            "[10:33:54] [600]\tvalid's binary_logloss: 0.303141\n",
            "[10:33:54] [700]\tvalid's binary_logloss: 0.307211\n",
            "[10:33:54] Early stopping, best iteration is:\n",
            "[593]\tvalid's binary_logloss: 0.302741\n",
            "[10:33:54] ===== Start working with \u001b[1mfold 2\u001b[0m for \u001b[1mLvl_0_Pipe_1_Mod_0_LightGBM\u001b[0m =====\n",
            "[10:33:54] Training until validation scores don't improve for 200 rounds\n",
            "[10:33:54] [100]\tvalid's binary_logloss: 0.400744\n",
            "[10:33:54] [200]\tvalid's binary_logloss: 0.338202\n",
            "[10:33:54] [300]\tvalid's binary_logloss: 0.310459\n",
            "[10:33:54] [400]\tvalid's binary_logloss: 0.295808\n",
            "[10:33:54] [500]\tvalid's binary_logloss: 0.290213\n",
            "[10:33:54] [600]\tvalid's binary_logloss: 0.287552\n",
            "[10:33:54] [700]\tvalid's binary_logloss: 0.285934\n",
            "[10:33:54] [800]\tvalid's binary_logloss: 0.287114\n",
            "[10:33:54] Early stopping, best iteration is:\n",
            "[678]\tvalid's binary_logloss: 0.284853\n",
            "[10:33:54] ===== Start working with \u001b[1mfold 3\u001b[0m for \u001b[1mLvl_0_Pipe_1_Mod_0_LightGBM\u001b[0m =====\n",
            "[10:33:54] Training until validation scores don't improve for 200 rounds\n",
            "[10:33:54] [100]\tvalid's binary_logloss: 0.416063\n",
            "[10:33:54] [200]\tvalid's binary_logloss: 0.357343\n",
            "[10:33:54] [300]\tvalid's binary_logloss: 0.327559\n",
            "[10:33:54] [400]\tvalid's binary_logloss: 0.311232\n",
            "[10:33:54] [500]\tvalid's binary_logloss: 0.302731\n",
            "[10:33:54] [600]\tvalid's binary_logloss: 0.298566\n",
            "[10:33:54] [700]\tvalid's binary_logloss: 0.297428\n",
            "[10:33:54] [800]\tvalid's binary_logloss: 0.29506\n",
            "[10:33:54] [900]\tvalid's binary_logloss: 0.298015\n",
            "[10:33:54] Early stopping, best iteration is:\n",
            "[781]\tvalid's binary_logloss: 0.294875\n",
            "[10:33:54] ===== Start working with \u001b[1mfold 4\u001b[0m for \u001b[1mLvl_0_Pipe_1_Mod_0_LightGBM\u001b[0m =====\n",
            "[10:33:54] Training until validation scores don't improve for 200 rounds\n",
            "[10:33:54] [100]\tvalid's binary_logloss: 0.398722\n",
            "[10:33:54] [200]\tvalid's binary_logloss: 0.331024\n",
            "[10:33:54] [300]\tvalid's binary_logloss: 0.302781\n",
            "[10:33:54] [400]\tvalid's binary_logloss: 0.289895\n",
            "[10:33:54] [500]\tvalid's binary_logloss: 0.283102\n",
            "[10:33:54] [600]\tvalid's binary_logloss: 0.279643\n",
            "[10:33:54] [700]\tvalid's binary_logloss: 0.279908\n",
            "[10:33:54] [800]\tvalid's binary_logloss: 0.280355\n",
            "[10:33:54] Early stopping, best iteration is:\n",
            "[676]\tvalid's binary_logloss: 0.278338\n",
            "[10:33:54] Fitting \u001b[1mLvl_0_Pipe_1_Mod_0_LightGBM\u001b[0m finished. score = \u001b[1m-0.2843587590801173\u001b[0m\n",
            "[10:33:54] \u001b[1mLvl_0_Pipe_1_Mod_0_LightGBM\u001b[0m fitting and predicting completed\n",
            "[10:33:54] Start fitting \u001b[1mLvl_0_Pipe_1_Mod_1_CatBoost\u001b[0m ...\n",
            "[10:33:54] Training params: {'task_type': 'GPU', 'thread_count': 4, 'random_seed': 42, 'num_trees': 500, 'learning_rate': 0.02, 'l2_leaf_reg': 0.01, 'bootstrap_type': 'Bernoulli', 'grow_policy': 'SymmetricTree', 'max_depth': 5, 'min_data_in_leaf': 1, 'one_hot_max_size': 10, 'fold_permutation_block': 1, 'boosting_type': 'Plain', 'boost_from_average': True, 'od_type': 'Iter', 'od_wait': 100, 'max_bin': 32, 'feature_border_type': 'GreedyLogSum', 'nan_mode': 'Min', 'verbose': 100, 'allow_writing_files': False, 'devices': '0'}\n",
            "[10:33:54] ===== Start working with \u001b[1mfold 0\u001b[0m for \u001b[1mLvl_0_Pipe_1_Mod_1_CatBoost\u001b[0m =====\n",
            "[10:33:54] 0:\tlearn: 0.6515349\ttest: 0.6596195\tbest: 0.6596195 (0)\ttotal: 2.33ms\tremaining: 1.16s\n",
            "[10:33:54] 100:\tlearn: 0.0546603\ttest: 0.2996072\tbest: 0.2755985 (49)\ttotal: 180ms\tremaining: 710ms\n",
            "[10:33:54] bestTest = 0.2755984676\n",
            "[10:33:54] bestIteration = 49\n",
            "[10:33:54] Shrink model to first 50 iterations.\n",
            "[10:33:54] ===== Start working with \u001b[1mfold 1\u001b[0m for \u001b[1mLvl_0_Pipe_1_Mod_1_CatBoost\u001b[0m =====\n",
            "[10:33:55] 0:\tlearn: 0.6607005\ttest: 0.6732572\tbest: 0.6732572 (0)\ttotal: 2.13ms\tremaining: 1.06s\n",
            "[10:33:55] 100:\tlearn: 0.0455331\ttest: 0.2940276\tbest: 0.2931425 (99)\ttotal: 178ms\tremaining: 704ms\n",
            "[10:33:55] bestTest = 0.2931424744\n",
            "[10:33:55] bestIteration = 99\n",
            "[10:33:55] Shrink model to first 100 iterations.\n",
            "[10:33:55] ===== Start working with \u001b[1mfold 2\u001b[0m for \u001b[1mLvl_0_Pipe_1_Mod_1_CatBoost\u001b[0m =====\n",
            "[10:33:56] 0:\tlearn: 0.6552376\ttest: 0.6616497\tbest: 0.6616497 (0)\ttotal: 2.06ms\tremaining: 1.03s\n",
            "[10:33:56] 100:\tlearn: 0.0535700\ttest: 0.2678056\tbest: 0.2574952 (89)\ttotal: 177ms\tremaining: 700ms\n",
            "[10:33:56] bestTest = 0.2574952379\n",
            "[10:33:56] bestIteration = 89\n",
            "[10:33:56] Shrink model to first 90 iterations.\n",
            "[10:33:56] ===== Start working with \u001b[1mfold 3\u001b[0m for \u001b[1mLvl_0_Pipe_1_Mod_1_CatBoost\u001b[0m =====\n",
            "[10:33:57] 0:\tlearn: 0.6457141\ttest: 0.6607264\tbest: 0.6607264 (0)\ttotal: 2.19ms\tremaining: 1.09s\n",
            "[10:33:57] 100:\tlearn: 0.0565630\ttest: 0.2879014\tbest: 0.2804742 (89)\ttotal: 184ms\tremaining: 726ms\n",
            "[10:33:57] bestTest = 0.2804742257\n",
            "[10:33:57] bestIteration = 89\n",
            "[10:33:57] Shrink model to first 90 iterations.\n",
            "[10:33:57] ===== Start working with \u001b[1mfold 4\u001b[0m for \u001b[1mLvl_0_Pipe_1_Mod_1_CatBoost\u001b[0m =====\n",
            "[10:33:58] 0:\tlearn: 0.6453235\ttest: 0.6495537\tbest: 0.6495537 (0)\ttotal: 2.17ms\tremaining: 1.08s\n",
            "[10:33:58] 100:\tlearn: 0.0537367\ttest: 0.3231527\tbest: 0.3084788 (60)\ttotal: 183ms\tremaining: 722ms\n",
            "[10:33:58] bestTest = 0.3084787528\n",
            "[10:33:58] bestIteration = 60\n",
            "[10:33:58] Shrink model to first 61 iterations.\n",
            "[10:33:58] Fitting \u001b[1mLvl_0_Pipe_1_Mod_1_CatBoost\u001b[0m finished. score = \u001b[1m-0.2829437646689085\u001b[0m\n",
            "[10:33:58] \u001b[1mLvl_0_Pipe_1_Mod_1_CatBoost\u001b[0m fitting and predicting completed\n",
            "[10:33:58] Time left 10793.89 secs\n",
            "\n",
            "[10:33:58] \u001b[1mLayer 1 training completed.\u001b[0m\n",
            "\n",
            "[10:33:58] Blending: optimization starts with equal weights and score \u001b[1m-0.28108461626514086\u001b[0m\n",
            "[10:33:58] Blending: iteration \u001b[1m0\u001b[0m: score = \u001b[1m-0.27923247436686216\u001b[0m, weights = \u001b[1m[0.09520054 0.4722681  0.43253136]\u001b[0m\n",
            "[10:33:58] Blending: iteration \u001b[1m1\u001b[0m: score = \u001b[1m-0.27923140412104536\u001b[0m, weights = \u001b[1m[0.1004778  0.4695136  0.43000862]\u001b[0m\n",
            "[10:33:58] Blending: iteration \u001b[1m2\u001b[0m: score = \u001b[1m-0.27923140412104536\u001b[0m, weights = \u001b[1m[0.1004778  0.4695136  0.43000862]\u001b[0m\n",
            "[10:33:58] Blending: no score update. Terminated\n",
            "\n",
            "[10:33:58] \u001b[1mAutoml preset training completed in 6.13 seconds\u001b[0m\n",
            "\n",
            "[10:33:58] Model description:\n",
            "Final prediction for new objects (level 0) = \n",
            "\t 0.10048 * (5 averaged models Lvl_0_Pipe_0_Mod_0_LinearL2) +\n",
            "\t 0.46951 * (5 averaged models Lvl_0_Pipe_1_Mod_0_LightGBM) +\n",
            "\t 0.43001 * (5 averaged models Lvl_0_Pipe_1_Mod_1_CatBoost) \n",
            "\n"
          ]
        }
      ],
      "source": [
        "# запускаем обучение на данных и подбор оптимальных параметров\n",
        "# из ансамбля моделей\n",
        "oof_pred = automl.fit_predict(tr_data, roles = roles, verbose=4)"
      ]
    },
    {
      "cell_type": "markdown",
      "metadata": {},
      "source": [
        "Тут некоторая тонкость использования метдов **automl.fit_predict()** и **automl.predict()**.\n",
        "\n",
        "Когда automl обучает модели методом **fit_predict()** это происходит с помощью кросс валидации (в нашем случае на 5 подвыборках из обучающей выборки). \n",
        "\n",
        "В процессе этого **automl** будет собирать статистику по фолдам, которые в данный момент являются валидационными и записывать ее.\n",
        "\n",
        "Поэтому и предсказанные значения по валидационным фолдам и полученные по ней метрики будут получены из метода automl.fit_predict(обучающая_выборка).\n",
        "\n",
        "automl.predict(данные) использует уже готовый полученный ансамбль моделей МЛ, некакого разбиения на подвыборки тут нет. Его праивльно использовать на тестовой выборке, - тех данных которые не участвовали при обучени модели.\n",
        "\n",
        "Предсказывать на automl.predict(обучающая_выборка) не правильно, таким образом мы померим метрику на тех данных на которых учили модель. А правильно делать это только на валлидационых фолдах при кросс валидации."
      ]
    },
    {
      "cell_type": "markdown",
      "metadata": {},
      "source": [
        "### Сохраним полученный ансамбль моделей в файл"
      ]
    },
    {
      "cell_type": "code",
      "execution_count": 31,
      "metadata": {},
      "outputs": [],
      "source": [
        "model_path = 'model/lightautoml_model_1.pkl'\n",
        "oof_pred_path = 'model/lightautoml_model_1_oof_pred_1.pkl'"
      ]
    },
    {
      "cell_type": "code",
      "execution_count": 33,
      "metadata": {},
      "outputs": [
        {
          "data": {
            "text/plain": [
              "['model/lightautoml_model_1_oof_pred_1.pkl']"
            ]
          },
          "execution_count": 33,
          "metadata": {},
          "output_type": "execute_result"
        }
      ],
      "source": [
        "# сохраним полученный ансамбль моделей и его предсказания на тестовой выборке\n",
        "joblib.dump(automl, model_path)\n",
        "joblib.dump(oof_pred, oof_pred_path)"
      ]
    },
    {
      "cell_type": "markdown",
      "metadata": {},
      "source": [
        "### Загрузим сохраненую ранее модель из файла"
      ]
    },
    {
      "cell_type": "code",
      "execution_count": 34,
      "metadata": {},
      "outputs": [],
      "source": [
        "porog = 0.5"
      ]
    },
    {
      "cell_type": "code",
      "execution_count": 35,
      "metadata": {},
      "outputs": [],
      "source": [
        "automl = joblib.load(model_path)\n",
        "oof_pred = joblib.load(oof_pred_path)"
      ]
    },
    {
      "cell_type": "code",
      "execution_count": 36,
      "metadata": {},
      "outputs": [],
      "source": [
        "# проверка полученного ансамбля на валидационной выборке\n",
        "valid_pred = automl.predict(valid_data)"
      ]
    },
    {
      "cell_type": "code",
      "execution_count": 37,
      "metadata": {},
      "outputs": [
        {
          "data": {
            "text/plain": [
              "array([1, 0, 0, 0, 1, 1, 1, 0, 1, 0, 1, 1, 1, 1, 0, 1, 1, 1, 1, 1, 1, 1,\n",
              "       1, 1, 0, 1, 0, 0, 1, 1, 0, 1, 1, 1, 1, 0, 1, 1, 0, 1, 1, 0, 1, 1,\n",
              "       1, 1, 1, 1, 1, 1, 1, 1, 0, 1, 0, 1, 1, 1, 1, 1, 1])"
            ]
          },
          "execution_count": 37,
          "metadata": {},
          "output_type": "execute_result"
        }
      ],
      "source": [
        "valid_pred = (valid_pred.data[:, 0] > porog).astype(int)\n",
        "valid_pred"
      ]
    },
    {
      "cell_type": "code",
      "execution_count": 38,
      "metadata": {},
      "outputs": [
        {
          "data": {
            "text/plain": [
              "(array([0, 1]), array([15, 46]))"
            ]
          },
          "execution_count": 38,
          "metadata": {},
          "output_type": "execute_result"
        }
      ],
      "source": [
        "np.unique(valid_pred, return_counts=True)"
      ]
    },
    {
      "cell_type": "code",
      "execution_count": 40,
      "metadata": {},
      "outputs": [
        {
          "data": {
            "text/plain": [
              "array([1, 0, 0, 0, 0, 1, 1, 0, 1, 1, 1, 1, 1, 1, 0, 1, 1, 1, 1, 0, 1, 1,\n",
              "       1, 0, 0, 1, 0, 0, 1, 1, 1, 1, 1, 0, 1, 0, 0, 1, 1, 1, 1, 1, 1, 1,\n",
              "       1, 1, 0, 1, 1, 1, 1, 1, 0, 1, 0, 1, 1, 1, 1, 1, 1])"
            ]
          },
          "execution_count": 40,
          "metadata": {},
          "output_type": "execute_result"
        }
      ],
      "source": [
        "valid_y_true = valid_data[target].values\n",
        "valid_y_true"
      ]
    },
    {
      "cell_type": "code",
      "execution_count": 41,
      "metadata": {},
      "outputs": [
        {
          "data": {
            "text/plain": [
              "(array([0, 1]), array([17, 44]))"
            ]
          },
          "execution_count": 41,
          "metadata": {},
          "output_type": "execute_result"
        }
      ],
      "source": [
        "np.unique(valid_y_true, return_counts=True)"
      ]
    },
    {
      "cell_type": "code",
      "execution_count": 42,
      "metadata": {},
      "outputs": [],
      "source": [
        "# соберем данные для оценки метрик по фолдам кросс валидации\n",
        "cross_val_train_y_true = tr_data[target].values\n",
        "cross_val_train_pred = (oof_pred.data[:, 0] > porog).astype(int)"
      ]
    },
    {
      "cell_type": "code",
      "execution_count": 43,
      "metadata": {},
      "outputs": [
        {
          "name": "stdout",
          "output_type": "stream",
          "text": [
            "Кросс валидация accuracy_score: 0.8641975308641975\n",
            "Валидационная выборка accuracy_score: 0.8360655737704918\n",
            "Кросс валидация precision_score: 0.8852459016393442\n",
            "Валидационная выборка  precision_score: 0.8695652173913043\n",
            "Кросс валидация precision_score: 0.9310344827586207\n",
            "Валидационная выборка precision_score: 0.9090909090909091\n"
          ]
        }
      ],
      "source": [
        "# оценка полученной метрики на валидационном наборе данных\n",
        "from sklearn.metrics import accuracy_score, precision_score, recall_score\n",
        "\n",
        "print(f\"Кросс валидация accuracy_score: {accuracy_score(cross_val_train_y_true, cross_val_train_pred)}\")\n",
        "print(f\"Валидационная выборка accuracy_score: {accuracy_score(valid_y_true, valid_pred)}\")\n",
        "\n",
        "print(f\"Кросс валидация precision_score: {precision_score(cross_val_train_y_true, cross_val_train_pred)}\")\n",
        "print(f\"Валидационная выборка  precision_score: {precision_score(valid_y_true, valid_pred)}\")\n",
        "\n",
        "print(f\"Кросс валидация precision_score: {recall_score(cross_val_train_y_true, cross_val_train_pred)}\")\n",
        "print(f\"Валидационная выборка precision_score: {recall_score(valid_y_true, valid_pred)}\")"
      ]
    },
    {
      "cell_type": "markdown",
      "metadata": {},
      "source": [
        "## Обучение модели на всей обучающей выборке и предсказание на тестовых данных"
      ]
    },
    {
      "cell_type": "markdown",
      "metadata": {},
      "source": [
        "Мы подобрали параметры обучения убедились что они работают хорошо по кросс валидации по 5 фолдам на 80% обучающей выборки.\n",
        "И протестировали наш алгоритм на 20% валидационной выборки.\n",
        "\n",
        "Теперь мы используя все подобранные параметры и настройки просто обучим алгоритм МЛ на кросс валидации по 5 фолдам, но уже на всей обучающей выборке. \n",
        "\n",
        "Согласно лучшим практикам встречающимся на kaggle это дает дополнительный прирост к точности за счет расширения выборки обучающих данных для модели. Контроль метрик и ранней остановки обучения идет по метрикам на валидационной выборке каждого фола из кросс валидации.\n",
        "И является распространенной практикой используемой при работе с LightAutoML от Сбера (ссылка на туториалы https://github.com/sb-ai-lab/LightAutoML#google-colab-tutorials-and-other-examples)."
      ]
    },
    {
      "cell_type": "code",
      "execution_count": 44,
      "metadata": {},
      "outputs": [],
      "source": [
        "# https://lightautoml.readthedocs.io/en/latest/python_api/generated/lightautoml.tasks.base.Task.html#lightautoml.tasks.base.Task\n",
        "task = Task('binary', loss= 'logloss', metric = 'accuracy')"
      ]
    },
    {
      "cell_type": "code",
      "execution_count": 45,
      "metadata": {},
      "outputs": [],
      "source": [
        "roles = {'target': target,\n",
        "         'numeric': numeric_features,\n",
        "         'category': category_features\n",
        "         }"
      ]
    },
    {
      "cell_type": "code",
      "execution_count": 46,
      "metadata": {},
      "outputs": [],
      "source": [
        "# Эксперименты показали, что в итоговой блендинг модели наибольший вклад\n",
        "# около 95% имеет модель градиентного бустинга lgb.\n",
        "# Вклад Логистической регрессии с l2-регуляризацией менее 1%.\n",
        "# Вклад градиентного бустинга CatBoost составил 5%.\n",
        "# В итоговом решении я оставил только эту модель.\n",
        "automl = TabularAutoML(task = task, \n",
        "                    timeout = 3600 * 3, # 3600 секунд = 1 час\n",
        "                    general_params = {'use_algos': [['cb', 'lgb', 'linear_l2']]},\n",
        "                    cb_params = {'default_params': {'task_type': 'GPU'}},\n",
        "                    reader_params = {'n_jobs': 12},\n",
        "                    timing_params ={'mode': 0}\n",
        "                    )"
      ]
    },
    {
      "cell_type": "code",
      "execution_count": 47,
      "metadata": {},
      "outputs": [
        {
          "name": "stdout",
          "output_type": "stream",
          "text": [
            "[10:37:06] Stdout logging level is DEBUG.\n",
            "[10:37:06] Task: binary\n",
            "\n",
            "[10:37:06] Start automl preset with listed constraints:\n",
            "[10:37:06] - time: 10800.00 seconds\n",
            "[10:37:06] - CPU: 4 cores\n",
            "[10:37:06] - memory: 16 GB\n",
            "\n",
            "[10:37:06] \u001b[1mTrain data shape: (304, 20)\u001b[0m\n",
            "\n",
            "[10:37:06] Feats was rejected during automatic roles guess: []\n",
            "[10:37:06] Layer \u001b[1m1\u001b[0m train process start. Time left 10799.90 secs\n",
            "[10:37:06] Start fitting \u001b[1mLvl_0_Pipe_0_Mod_0_LinearL2\u001b[0m ...\n",
            "[10:37:06] Training params: {'tol': 1e-06, 'max_iter': 100, 'cs': [1e-05, 5e-05, 0.0001, 0.0005, 0.001, 0.005, 0.01, 0.05, 0.1, 0.5, 1, 5, 10, 50, 100, 500, 1000, 5000, 10000, 50000, 100000], 'early_stopping': 2, 'categorical_idx': [26, 27, 28, 29, 30, 31, 32, 33, 34], 'embed_sizes': array([ 4, 12, 11, 10,  8, 12,  9, 11, 11], dtype=int32), 'data_size': 35}\n",
            "[10:37:06] ===== Start working with \u001b[1mfold 0\u001b[0m for \u001b[1mLvl_0_Pipe_0_Mod_0_LinearL2\u001b[0m =====\n",
            "[10:37:06] Linear model: C = 1e-05 score = 0.7213114754098361\n",
            "[10:37:06] Linear model: C = 5e-05 score = 0.7213114754098361\n",
            "[10:37:06] Linear model: C = 0.0001 score = 0.7213114754098361\n",
            "[10:37:06] ===== Start working with \u001b[1mfold 1\u001b[0m for \u001b[1mLvl_0_Pipe_0_Mod_0_LinearL2\u001b[0m =====\n",
            "[10:37:06] Linear model: C = 1e-05 score = 0.7213114754098361\n",
            "[10:37:06] Linear model: C = 5e-05 score = 0.7213114754098361\n",
            "[10:37:06] Linear model: C = 0.0001 score = 0.7213114754098361\n",
            "[10:37:06] ===== Start working with \u001b[1mfold 2\u001b[0m for \u001b[1mLvl_0_Pipe_0_Mod_0_LinearL2\u001b[0m =====\n",
            "[10:37:06] Linear model: C = 1e-05 score = 0.7213114754098361\n",
            "[10:37:06] Linear model: C = 5e-05 score = 0.7213114754098361\n",
            "[10:37:06] Linear model: C = 0.0001 score = 0.7213114754098361\n",
            "[10:37:06] ===== Start working with \u001b[1mfold 3\u001b[0m for \u001b[1mLvl_0_Pipe_0_Mod_0_LinearL2\u001b[0m =====\n",
            "[10:37:06] Linear model: C = 1e-05 score = 0.7049180327868853\n",
            "[10:37:06] Linear model: C = 5e-05 score = 0.7049180327868853\n",
            "[10:37:06] Linear model: C = 0.0001 score = 0.7049180327868853\n",
            "[10:37:06] ===== Start working with \u001b[1mfold 4\u001b[0m for \u001b[1mLvl_0_Pipe_0_Mod_0_LinearL2\u001b[0m =====\n",
            "[10:37:06] Linear model: C = 1e-05 score = 0.7166666666666667\n",
            "[10:37:06] Linear model: C = 5e-05 score = 0.7166666666666667\n",
            "[10:37:06] Linear model: C = 0.0001 score = 0.7166666666666667\n",
            "[10:37:06] Fitting \u001b[1mLvl_0_Pipe_0_Mod_0_LinearL2\u001b[0m finished. score = \u001b[1m0.7171052631578947\u001b[0m\n",
            "[10:37:06] \u001b[1mLvl_0_Pipe_0_Mod_0_LinearL2\u001b[0m fitting and predicting completed\n",
            "[10:37:06] Time left 10799.76 secs\n",
            "\n",
            "[10:37:06] Training until validation scores don't improve for 200 rounds\n",
            "[10:37:06] [100]\tvalid's binary_error: 0.163934\n",
            "[10:37:06] [200]\tvalid's binary_error: 0.163934\n",
            "[10:37:06] Early stopping, best iteration is:\n",
            "[89]\tvalid's binary_error: 0.131148\n",
            "[10:37:06] \u001b[1mSelector_LightGBM\u001b[0m fitting and predicting completed\n",
            "[10:37:06] Start fitting \u001b[1mLvl_0_Pipe_1_Mod_0_LightGBM\u001b[0m ...\n",
            "[10:37:06] Training params: {'task': 'train', 'learning_rate': 0.01, 'num_leaves': 16, 'feature_fraction': 0.7, 'bagging_fraction': 0.7, 'bagging_freq': 1, 'max_depth': -1, 'verbosity': -1, 'reg_alpha': 1, 'reg_lambda': 0.0, 'min_split_gain': 0.0, 'zero_as_missing': False, 'num_threads': 4, 'max_bin': 255, 'min_data_in_bin': 3, 'num_trees': 3000, 'early_stopping_rounds': 200, 'random_state': 42}\n",
            "[10:37:06] ===== Start working with \u001b[1mfold 0\u001b[0m for \u001b[1mLvl_0_Pipe_1_Mod_0_LightGBM\u001b[0m =====\n",
            "[10:37:06] Training until validation scores don't improve for 200 rounds\n",
            "[10:37:06] [100]\tvalid's binary_error: 0.163934\n",
            "[10:37:06] [200]\tvalid's binary_error: 0.147541\n",
            "[10:37:06] [300]\tvalid's binary_error: 0.147541\n",
            "[10:37:06] Early stopping, best iteration is:\n",
            "[123]\tvalid's binary_error: 0.114754\n",
            "[10:37:06] ===== Start working with \u001b[1mfold 1\u001b[0m for \u001b[1mLvl_0_Pipe_1_Mod_0_LightGBM\u001b[0m =====\n",
            "[10:37:06] Training until validation scores don't improve for 200 rounds\n",
            "[10:37:06] [100]\tvalid's binary_error: 0.180328\n",
            "[10:37:06] [200]\tvalid's binary_error: 0.147541\n",
            "[10:37:06] [300]\tvalid's binary_error: 0.0819672\n",
            "[10:37:06] [400]\tvalid's binary_error: 0.0819672\n",
            "[10:37:06] Early stopping, best iteration is:\n",
            "[269]\tvalid's binary_error: 0.0819672\n",
            "[10:37:06] ===== Start working with \u001b[1mfold 2\u001b[0m for \u001b[1mLvl_0_Pipe_1_Mod_0_LightGBM\u001b[0m =====\n",
            "[10:37:06] Training until validation scores don't improve for 200 rounds\n",
            "[10:37:06] [100]\tvalid's binary_error: 0.213115\n",
            "[10:37:06] [200]\tvalid's binary_error: 0.229508\n",
            "[10:37:06] [300]\tvalid's binary_error: 0.196721\n",
            "[10:37:06] Early stopping, best iteration is:\n",
            "[107]\tvalid's binary_error: 0.196721\n",
            "[10:37:06] ===== Start working with \u001b[1mfold 3\u001b[0m for \u001b[1mLvl_0_Pipe_1_Mod_0_LightGBM\u001b[0m =====\n",
            "[10:37:06] Training until validation scores don't improve for 200 rounds\n",
            "[10:37:06] [100]\tvalid's binary_error: 0.229508\n",
            "[10:37:06] [200]\tvalid's binary_error: 0.196721\n",
            "[10:37:06] [300]\tvalid's binary_error: 0.114754\n",
            "[10:37:06] [400]\tvalid's binary_error: 0.0983607\n",
            "[10:37:06] [500]\tvalid's binary_error: 0.0819672\n",
            "[10:37:06] [600]\tvalid's binary_error: 0.0655738\n",
            "[10:37:06] [700]\tvalid's binary_error: 0.0655738\n",
            "[10:37:06] Early stopping, best iteration is:\n",
            "[576]\tvalid's binary_error: 0.0655738\n",
            "[10:37:06] ===== Start working with \u001b[1mfold 4\u001b[0m for \u001b[1mLvl_0_Pipe_1_Mod_0_LightGBM\u001b[0m =====\n",
            "[10:37:06] Training until validation scores don't improve for 200 rounds\n",
            "[10:37:06] [100]\tvalid's binary_error: 0.15\n",
            "[10:37:06] [200]\tvalid's binary_error: 0.15\n",
            "[10:37:06] [300]\tvalid's binary_error: 0.15\n",
            "[10:37:06] Early stopping, best iteration is:\n",
            "[103]\tvalid's binary_error: 0.133333\n",
            "[10:37:06] Fitting \u001b[1mLvl_0_Pipe_1_Mod_0_LightGBM\u001b[0m finished. score = \u001b[1m0.881578947368421\u001b[0m\n",
            "[10:37:06] \u001b[1mLvl_0_Pipe_1_Mod_0_LightGBM\u001b[0m fitting and predicting completed\n",
            "[10:37:06] Start fitting \u001b[1mLvl_0_Pipe_1_Mod_1_CatBoost\u001b[0m ...\n",
            "[10:37:06] Training params: {'task_type': 'GPU', 'thread_count': 4, 'random_seed': 42, 'num_trees': 500, 'learning_rate': 0.02, 'l2_leaf_reg': 0.01, 'bootstrap_type': 'Bernoulli', 'grow_policy': 'SymmetricTree', 'max_depth': 5, 'min_data_in_leaf': 1, 'one_hot_max_size': 10, 'fold_permutation_block': 1, 'boosting_type': 'Plain', 'boost_from_average': True, 'od_type': 'Iter', 'od_wait': 100, 'max_bin': 32, 'feature_border_type': 'GreedyLogSum', 'nan_mode': 'Min', 'verbose': 100, 'allow_writing_files': False, 'devices': '0'}\n",
            "[10:37:06] ===== Start working with \u001b[1mfold 0\u001b[0m for \u001b[1mLvl_0_Pipe_1_Mod_1_CatBoost\u001b[0m =====\n",
            "[10:37:07] 0:\tlearn: 0.8930041\ttest: 0.8196721\tbest: 0.8196721 (0)\ttotal: 2.29ms\tremaining: 1.14s\n",
            "[10:37:07] 100:\tlearn: 1.0000000\ttest: 0.8852459\tbest: 0.9016393 (9)\ttotal: 194ms\tremaining: 766ms\n",
            "[10:37:07] bestTest = 0.9016393443\n",
            "[10:37:07] bestIteration = 9\n",
            "[10:37:07] Shrink model to first 10 iterations.\n",
            "[10:37:07] ===== Start working with \u001b[1mfold 1\u001b[0m for \u001b[1mLvl_0_Pipe_1_Mod_1_CatBoost\u001b[0m =====\n",
            "[10:37:07] 0:\tlearn: 0.8600823\ttest: 0.9180328\tbest: 0.9180328 (0)\ttotal: 2.25ms\tremaining: 1.12s\n",
            "[10:37:08] 100:\tlearn: 1.0000000\ttest: 0.9180328\tbest: 0.9180328 (0)\ttotal: 197ms\tremaining: 778ms\n",
            "[10:37:08] bestTest = 0.9180327869\n",
            "[10:37:08] bestIteration = 0\n",
            "[10:37:08] Shrink model to first 1 iterations.\n",
            "[10:37:08] ===== Start working with \u001b[1mfold 2\u001b[0m for \u001b[1mLvl_0_Pipe_1_Mod_1_CatBoost\u001b[0m =====\n",
            "[10:37:08] 0:\tlearn: 0.9135802\ttest: 0.7540984\tbest: 0.7540984 (0)\ttotal: 2.19ms\tremaining: 1.09s\n",
            "[10:37:08] 100:\tlearn: 1.0000000\ttest: 0.8196721\tbest: 0.8196721 (97)\ttotal: 193ms\tremaining: 762ms\n",
            "[10:37:09] 200:\tlearn: 1.0000000\ttest: 0.8196721\tbest: 0.8360656 (103)\ttotal: 384ms\tremaining: 571ms\n",
            "[10:37:09] bestTest = 0.8360655738\n",
            "[10:37:09] bestIteration = 103\n",
            "[10:37:09] Shrink model to first 104 iterations.\n",
            "[10:37:09] ===== Start working with \u001b[1mfold 3\u001b[0m for \u001b[1mLvl_0_Pipe_1_Mod_1_CatBoost\u001b[0m =====\n",
            "[10:37:09] 0:\tlearn: 0.8806584\ttest: 0.8032787\tbest: 0.8032787 (0)\ttotal: 2.33ms\tremaining: 1.16s\n",
            "[10:37:09] 100:\tlearn: 1.0000000\ttest: 0.8196721\tbest: 0.8524590 (29)\ttotal: 193ms\tremaining: 761ms\n",
            "[10:37:10] bestTest = 0.8524590164\n",
            "[10:37:10] bestIteration = 29\n",
            "[10:37:10] Shrink model to first 30 iterations.\n",
            "[10:37:10] ===== Start working with \u001b[1mfold 4\u001b[0m for \u001b[1mLvl_0_Pipe_1_Mod_1_CatBoost\u001b[0m =====\n",
            "[10:37:10] 0:\tlearn: 0.8934426\ttest: 0.8166667\tbest: 0.8166667 (0)\ttotal: 2.24ms\tremaining: 1.12s\n",
            "[10:37:10] 100:\tlearn: 1.0000000\ttest: 0.8333333\tbest: 0.9000000 (9)\ttotal: 194ms\tremaining: 765ms\n",
            "[10:37:10] bestTest = 0.9\n",
            "[10:37:10] bestIteration = 9\n",
            "[10:37:10] Shrink model to first 10 iterations.\n",
            "[10:37:10] Fitting \u001b[1mLvl_0_Pipe_1_Mod_1_CatBoost\u001b[0m finished. score = \u001b[1m0.881578947368421\u001b[0m\n",
            "[10:37:10] \u001b[1mLvl_0_Pipe_1_Mod_1_CatBoost\u001b[0m fitting and predicting completed\n",
            "[10:37:10] Time left 10795.57 secs\n",
            "\n",
            "[10:37:10] \u001b[1mLayer 1 training completed.\u001b[0m\n",
            "\n",
            "[10:37:10] Blending: optimization starts with equal weights and score \u001b[1m0.8157894736842105\u001b[0m\n",
            "[10:37:10] Blending: iteration \u001b[1m0\u001b[0m: score = \u001b[1m0.881578947368421\u001b[0m, weights = \u001b[1m[0.         0.37594447 0.62405556]\u001b[0m\n",
            "[10:37:10] Blending: iteration \u001b[1m1\u001b[0m: score = \u001b[1m0.881578947368421\u001b[0m, weights = \u001b[1m[0.         0.37594447 0.62405556]\u001b[0m\n",
            "[10:37:10] Blending: no score update. Terminated\n",
            "\n",
            "[10:37:10] \u001b[1mAutoml preset training completed in 4.44 seconds\u001b[0m\n",
            "\n",
            "[10:37:10] Model description:\n",
            "Final prediction for new objects (level 0) = \n",
            "\t 0.37594 * (5 averaged models Lvl_0_Pipe_1_Mod_0_LightGBM) +\n",
            "\t 0.62406 * (5 averaged models Lvl_0_Pipe_1_Mod_1_CatBoost) \n",
            "\n"
          ]
        }
      ],
      "source": [
        "# обучение этим подходом на всех имеющиеся обучающих данных\n",
        "oof_pred = automl.fit_predict(train, roles = roles, verbose=4)"
      ]
    },
    {
      "cell_type": "markdown",
      "metadata": {},
      "source": [
        "### Сохраним полученный ансамбль моделей в файл"
      ]
    },
    {
      "cell_type": "code",
      "execution_count": 48,
      "metadata": {},
      "outputs": [],
      "source": [
        "model_path = 'model/lightautoml_model_1_final.pkl'\n",
        "oof_pred_path = 'model/lightautoml_model_1_oof_pred_final.pkl'"
      ]
    },
    {
      "cell_type": "code",
      "execution_count": 49,
      "metadata": {},
      "outputs": [
        {
          "data": {
            "text/plain": [
              "['model/lightautoml_model_1_oof_pred_final.pkl']"
            ]
          },
          "execution_count": 49,
          "metadata": {},
          "output_type": "execute_result"
        }
      ],
      "source": [
        "# сохраним полученный ансамбль моделей и его предсказания на тестовой выборке\n",
        "joblib.dump(automl, model_path)\n",
        "joblib.dump(oof_pred, oof_pred_path) "
      ]
    },
    {
      "cell_type": "markdown",
      "metadata": {},
      "source": [
        "### Загрузим сохраненую ранее модель из файла"
      ]
    },
    {
      "cell_type": "code",
      "execution_count": 50,
      "metadata": {},
      "outputs": [],
      "source": [
        "automl = joblib.load(model_path)\n",
        "oof_pred = joblib.load(oof_pred_path)"
      ]
    },
    {
      "cell_type": "code",
      "execution_count": 51,
      "metadata": {},
      "outputs": [
        {
          "name": "stdout",
          "output_type": "stream",
          "text": [
            "Кросс валидация(вся выборка) accuracy_score: 0.881578947368421\n"
          ]
        }
      ],
      "source": [
        "# оценка полученной метрики на всем наборе данных\n",
        "# теперь мы можем оценить полученные метрики только по кросс валидации\n",
        "cross_val_train_y_true = train[target].values\n",
        "cross_val_train_pred = (oof_pred.data[:, 0] > porog).astype(int)\n",
        "\n",
        "metric = accuracy_score(cross_val_train_y_true, cross_val_train_pred)\n",
        "print(f\"Кросс валидация(вся выборка) accuracy_score: {metric}\")\n"
      ]
    },
    {
      "cell_type": "markdown",
      "metadata": {
        "id": "koVlQwT9kdMU"
      },
      "source": [
        "## Предсказание ответа для тестового набора данных"
      ]
    },
    {
      "cell_type": "code",
      "execution_count": 52,
      "metadata": {
        "id": "BA3CxJ1nkfkJ"
      },
      "outputs": [],
      "source": [
        "# предсказание ансамблем моделей на тестовых данных\n",
        "test_pred = automl.predict(test)"
      ]
    },
    {
      "cell_type": "markdown",
      "metadata": {},
      "source": [
        "### Сделаем файл sabmita"
      ]
    },
    {
      "cell_type": "code",
      "execution_count": 53,
      "metadata": {},
      "outputs": [],
      "source": [
        "submission_path = 'submission/lightautoml_model_final_submission.csv'"
      ]
    },
    {
      "cell_type": "code",
      "execution_count": 54,
      "metadata": {},
      "outputs": [
        {
          "data": {
            "text/plain": [
              "array([1, 0, 1, 0, 1, 1, 1, 0, 1, 1, 1, 1, 0, 1, 0, 1, 1, 1, 0, 1, 1, 1,\n",
              "       1, 1, 1, 1, 1, 1, 1, 0, 1, 1, 1, 1, 1, 1, 1, 1, 1, 0, 0, 1, 1, 1,\n",
              "       1, 1, 1, 1, 1, 1, 0, 0, 1, 1, 1, 1, 1, 1, 1, 1, 1, 1, 0, 1, 1, 1,\n",
              "       1, 1, 1, 1, 1, 1, 1, 1, 1, 1, 1, 1, 1, 1, 1, 1, 1, 0, 1, 1, 1, 1,\n",
              "       1, 1, 1, 1, 1, 1, 1, 0, 1, 1, 1, 1, 0, 1, 1, 1, 1, 1, 0, 1, 1, 1,\n",
              "       1, 1, 1, 1, 0, 0, 1, 1, 1, 1, 0, 1, 1, 1, 1, 1, 1, 1, 1, 1, 1, 1,\n",
              "       1])"
            ]
          },
          "execution_count": 54,
          "metadata": {},
          "output_type": "execute_result"
        }
      ],
      "source": [
        "y_pred_test = (test_pred.data[:, 0] > porog).astype(int)\n",
        "y_pred_test"
      ]
    },
    {
      "cell_type": "code",
      "execution_count": 55,
      "metadata": {
        "colab": {
          "base_uri": "https://localhost:8080/",
          "height": 17
        },
        "id": "tBObQdM4kh6c",
        "outputId": "81033b22-c404-4cde-f4fa-7a9d3d27a070"
      },
      "outputs": [],
      "source": [
        "submit=pd.DataFrame({\"Onshore/Offshore\":y_pred_test})\n",
        "submit.index.name=\"index\"\n",
        "submit[\"Onshore/Offshore\"]=submit[\"Onshore/Offshore\"].replace({0:\"OFFSHORE\", 1:\"ONSHORE\"})"
      ]
    },
    {
      "cell_type": "code",
      "execution_count": 56,
      "metadata": {},
      "outputs": [
        {
          "data": {
            "text/html": [
              "<div>\n",
              "<style scoped>\n",
              "    .dataframe tbody tr th:only-of-type {\n",
              "        vertical-align: middle;\n",
              "    }\n",
              "\n",
              "    .dataframe tbody tr th {\n",
              "        vertical-align: top;\n",
              "    }\n",
              "\n",
              "    .dataframe thead th {\n",
              "        text-align: right;\n",
              "    }\n",
              "</style>\n",
              "<table border=\"1\" class=\"dataframe\">\n",
              "  <thead>\n",
              "    <tr style=\"text-align: right;\">\n",
              "      <th></th>\n",
              "      <th>Onshore/Offshore</th>\n",
              "    </tr>\n",
              "    <tr>\n",
              "      <th>index</th>\n",
              "      <th></th>\n",
              "    </tr>\n",
              "  </thead>\n",
              "  <tbody>\n",
              "    <tr>\n",
              "      <th>0</th>\n",
              "      <td>ONSHORE</td>\n",
              "    </tr>\n",
              "    <tr>\n",
              "      <th>1</th>\n",
              "      <td>OFFSHORE</td>\n",
              "    </tr>\n",
              "    <tr>\n",
              "      <th>2</th>\n",
              "      <td>ONSHORE</td>\n",
              "    </tr>\n",
              "    <tr>\n",
              "      <th>3</th>\n",
              "      <td>OFFSHORE</td>\n",
              "    </tr>\n",
              "    <tr>\n",
              "      <th>4</th>\n",
              "      <td>ONSHORE</td>\n",
              "    </tr>\n",
              "    <tr>\n",
              "      <th>...</th>\n",
              "      <td>...</td>\n",
              "    </tr>\n",
              "    <tr>\n",
              "      <th>128</th>\n",
              "      <td>ONSHORE</td>\n",
              "    </tr>\n",
              "    <tr>\n",
              "      <th>129</th>\n",
              "      <td>ONSHORE</td>\n",
              "    </tr>\n",
              "    <tr>\n",
              "      <th>130</th>\n",
              "      <td>ONSHORE</td>\n",
              "    </tr>\n",
              "    <tr>\n",
              "      <th>131</th>\n",
              "      <td>ONSHORE</td>\n",
              "    </tr>\n",
              "    <tr>\n",
              "      <th>132</th>\n",
              "      <td>ONSHORE</td>\n",
              "    </tr>\n",
              "  </tbody>\n",
              "</table>\n",
              "<p>133 rows × 1 columns</p>\n",
              "</div>"
            ],
            "text/plain": [
              "      Onshore/Offshore\n",
              "index                 \n",
              "0              ONSHORE\n",
              "1             OFFSHORE\n",
              "2              ONSHORE\n",
              "3             OFFSHORE\n",
              "4              ONSHORE\n",
              "...                ...\n",
              "128            ONSHORE\n",
              "129            ONSHORE\n",
              "130            ONSHORE\n",
              "131            ONSHORE\n",
              "132            ONSHORE\n",
              "\n",
              "[133 rows x 1 columns]"
            ]
          },
          "execution_count": 56,
          "metadata": {},
          "output_type": "execute_result"
        }
      ],
      "source": [
        "submit"
      ]
    },
    {
      "cell_type": "code",
      "execution_count": 57,
      "metadata": {},
      "outputs": [],
      "source": [
        "submit.to_csv(submission_path)"
      ]
    }
  ],
  "metadata": {
    "colab": {
      "name": "Samsung. Baseline. Спрос на бронирование отелей.ipynb",
      "provenance": []
    },
    "kernelspec": {
      "display_name": "Python 3.9.12 ('sber_lama')",
      "language": "python",
      "name": "python3"
    },
    "language_info": {
      "codemirror_mode": {
        "name": "ipython",
        "version": 3
      },
      "file_extension": ".py",
      "mimetype": "text/x-python",
      "name": "python",
      "nbconvert_exporter": "python",
      "pygments_lexer": "ipython3",
      "version": "3.9.12"
    },
    "vscode": {
      "interpreter": {
        "hash": "901158d8cd2db934fb9192b2a062c20c24f00bed87efea9fcd6e00355046a3d1"
      }
    }
  },
  "nbformat": 4,
  "nbformat_minor": 0
}
